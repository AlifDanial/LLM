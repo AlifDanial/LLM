{
  "cells": [
    {
      "cell_type": "markdown",
      "metadata": {
        "id": "MM444CwqiMYc"
      },
      "source": [
        "# A RAG application using ChatGPT API"
      ]
    },
    {
      "cell_type": "code",
      "execution_count": null,
      "metadata": {
        "id": "fUY_4kvEiMYe",
        "outputId": "06bcb751-5a9c-4a3a-a776-1b77289514a1",
        "colab": {
          "base_uri": "https://localhost:8080/"
        }
      },
      "outputs": [
        {
          "output_type": "stream",
          "name": "stdout",
          "text": [
            "env: OPENAI_API_KEY=sk-proj-ktWXiVIzs0gH2bn9jouET3BlbkFJcvq4Vq4SBu85axaVGz0g\n"
          ]
        }
      ],
      "source": [
        "%env OPENAI_API_KEY =\n",
        "MODEL = \"gpt-3.5-turbo\"\n"
      ]
    },
    {
      "cell_type": "code",
      "execution_count": null,
      "metadata": {
        "id": "1pCXySN6iMYg"
      },
      "outputs": [],
      "source": [
        "from langchain_community.llms import Ollama\n",
        "from langchain_openai.chat_models import ChatOpenAI\n",
        "from langchain_community.embeddings import OllamaEmbeddings\n",
        "from langchain_openai.embeddings import OpenAIEmbeddings\n",
        "\n",
        "if MODEL.startswith(\"gpt\"):\n",
        "    model = ChatOpenAI(openai_api_key=OPENAI_API_KEY, model=MODEL)\n",
        "    embeddings = OpenAIEmbeddings()\n",
        "else:\n",
        "    model = Ollama(model=MODEL)\n",
        "    embeddings = OllamaEmbeddings(model=MODEL)\n",
        "\n",
        "model.invoke(\"Tell me a joke\")"
      ]
    },
    {
      "cell_type": "code",
      "execution_count": null,
      "metadata": {
        "id": "yhE8KECIiMYh",
        "outputId": "30398813-d75a-43a9-b699-32161e047d16",
        "colab": {
          "base_uri": "https://localhost:8080/",
          "height": 35
        }
      },
      "outputs": [
        {
          "output_type": "execute_result",
          "data": {
            "text/plain": [
              "\"Why don't scientists trust atoms? \\n\\nBecause they make up everything!\""
            ],
            "application/vnd.google.colaboratory.intrinsic+json": {
              "type": "string"
            }
          },
          "metadata": {},
          "execution_count": 17
        }
      ],
      "source": [
        "from langchain_core.output_parsers import StrOutputParser\n",
        "\n",
        "parser = StrOutputParser()\n",
        "\n",
        "chain = model | parser\n",
        "chain.invoke(\"Tell me a joke\")"
      ]
    },
    {
      "cell_type": "code",
      "execution_count": null,
      "metadata": {
        "id": "vd_2sk_XiMYi",
        "outputId": "1d2d4554-1209-45c9-c7da-4e075afc2616",
        "colab": {
          "base_uri": "https://localhost:8080/",
          "height": 52
        }
      },
      "outputs": [
        {
          "output_type": "execute_result",
          "data": {
            "text/plain": [
              "'\\nAnswer the question based on the context below. If you can\\'t \\nanswer the question, reply \"I don\\'t know\".\\n\\nContext: Here is some context\\n\\nQuestion: Here is a question\\n'"
            ],
            "application/vnd.google.colaboratory.intrinsic+json": {
              "type": "string"
            }
          },
          "metadata": {},
          "execution_count": 18
        }
      ],
      "source": [
        "from langchain.prompts import PromptTemplate\n",
        "\n",
        "template = \"\"\"\n",
        "Answer the question based on the context below. If you can't\n",
        "answer the question, reply \"I don't know\".\n",
        "\n",
        "Context: {context}\n",
        "\n",
        "Question: {question}\n",
        "\"\"\"\n",
        "\n",
        "prompt = PromptTemplate.from_template(template)\n",
        "prompt.format(context=\"Here is some context\", question=\"Here is a question\")"
      ]
    },
    {
      "cell_type": "code",
      "execution_count": null,
      "metadata": {
        "id": "Po9t93oaiMYi",
        "outputId": "70f1f96f-a942-431c-a655-9194c6f851b1",
        "colab": {
          "base_uri": "https://localhost:8080/",
          "height": 35
        }
      },
      "outputs": [
        {
          "output_type": "execute_result",
          "data": {
            "text/plain": [
              "'My name is Santiago.'"
            ],
            "application/vnd.google.colaboratory.intrinsic+json": {
              "type": "string"
            }
          },
          "metadata": {},
          "execution_count": 19
        }
      ],
      "source": [
        "chain = prompt | model | parser\n",
        "\n",
        "chain.invoke({\"context\": \"My parents named me Santiago\", \"question\": \"What's your name'?\"})"
      ]
    },
    {
      "cell_type": "code",
      "execution_count": null,
      "metadata": {
        "id": "3JJMVweciMYj"
      },
      "outputs": [],
      "source": [
        "from langchain_community.document_loaders import PyPDFLoader\n",
        "\n",
        "loader = PyPDFLoader(\"/content/Pandora Papers.pdf\")\n",
        "pages = loader.load_and_split()\n",
        "pages"
      ]
    },
    {
      "cell_type": "code",
      "execution_count": null,
      "metadata": {
        "id": "oNdmYEF3iMYj"
      },
      "outputs": [],
      "source": [
        "from langchain_community.vectorstores import DocArrayInMemorySearch\n",
        "\n",
        "vectorstore = DocArrayInMemorySearch.from_documents(pages, embedding=embeddings)"
      ]
    },
    {
      "cell_type": "code",
      "execution_count": null,
      "metadata": {
        "id": "p5XASVSxiMYk"
      },
      "outputs": [],
      "source": [
        "retriever = vectorstore.as_retriever()\n",
        "retriever.invoke(\"money laundering\")"
      ]
    },
    {
      "cell_type": "code",
      "execution_count": null,
      "metadata": {
        "id": "qflhZgSIiMYl"
      },
      "outputs": [],
      "source": [
        "from operator import itemgetter\n",
        "\n",
        "chain = (\n",
        "    {\n",
        "        \"context\": itemgetter(\"question\") | retriever,\n",
        "        \"question\": itemgetter(\"question\"),\n",
        "    }\n",
        "    | prompt\n",
        "    | model\n",
        "    | parser\n",
        ")"
      ]
    },
    {
      "cell_type": "code",
      "execution_count": null,
      "metadata": {
        "id": "w3vIBK6miMYl",
        "outputId": "5d839c66-5c75-48f8-f75a-5ce0cec084bf",
        "colab": {
          "base_uri": "https://localhost:8080/"
        }
      },
      "outputs": [
        {
          "output_type": "stream",
          "name": "stdout",
          "text": [
            "Question: What are the Pandora Papers and how were they obtained?\n",
            "Answer: The Pandora Papers are 11.9 million leaked documents with 2.9 terabytes of data that were obtained by the International Consortium of Investigative Journalists (ICIJ) and published beginning on October 3, 2021.\n",
            "\n",
            "Question: Who are some of the most notable individuals mentioned in the Pandora Papers and what accusations are made against them?\n",
            "Answer: Some of the most notable individuals mentioned in the Pandora Papers include former British prime minister Tony Blair, Chilean president Sebastián Piñera, former Kenyan president Uhuru Kenyatta, Ukrainian president Volodymyr Zelenskyy, Qatari emir Tamim bin Hamad Al Thani, United Arab Emirates prime minister and Dubai ruler Mohammed bin Rashid Al Maktoum, Gabonese president Ali Bongo Ondimba, Lebanese prime minister Najib Mikati, Ecuadorian president Guillermo Lasso, and Cypriot president Nicos Anastasiades. Accusations made against them include hiding assets in tax havens and engaging in financial fraud.\n",
            "\n",
            "Question: How do the Pandora Papers differ from previous leaks like the Panama Papers and Paradise Papers?\n",
            "Answer: The Pandora Papers differ from previous leaks like the Panama Papers and Paradise Papers in terms of the number of leaked documents and the amount of data involved. The Pandora Papers consist of 11.9 million leaked documents with 2.9 terabytes of data, which is greater than the previous releases of the Panama Papers in 2016 and Paradise Papers. Additionally, the Pandora Papers expose the secret offshore accounts of a larger number of world leaders and individuals compared to the Panama Papers and Paradise Papers.\n",
            "\n",
            "Question: What methods do wealthy individuals and corporations use to hide their wealth as revealed by the Pandora Papers?\n",
            "Answer: Wealthy individuals and corporations use methods such as setting up of shore companies, trusts, and using tax havens to hide their wealth, as revealed by the Pandora Papers.\n",
            "\n",
            "Question: What are the legal and ethical implications of the findings in the Pandora Papers?\n",
            "Answer: The legal and ethical implications of the findings in the Pandora Papers include potential investigations, probes, and legal action against individuals named in the leak for financial fraud, tax evasion, and other wrongdoing. Additionally, there are concerns about transparency, accountability, and integrity in government officials and leaders who have been implicated in the leak. The leak also raises questions about the use of offshore accounts and tax havens to hide wealth and assets, highlighting the need for stricter regulations and enforcement to prevent such practices.\n",
            "\n",
            "Question: How have governments around the world reacted to the revelations in the Pandora Papers?\n",
            "Answer: Governments around the world have reacted to the revelations in the Pandora Papers by launching investigations, ordering probes, promising investigations, denying wrongdoing, and taking appropriate legal action if necessary. Some governments have condemned the leaks, while others have acknowledged the need for transparency and accountability.\n",
            "\n",
            "Question: What role do offshore financial centers play in the global economy, according to insights from the Pandora Papers?\n",
            "Answer: Offshore financial centers play a significant role in the global economy by allowing the global elite to shield their riches from taxes, probes, and accountability, as revealed in the Pandora Papers. The leaked documents detail an opaque financial universe where wealthy individuals and powerful figures use offshore trusts and companies in various countries to store large sums of money away from their home countries.\n",
            "\n",
            "Question: How have the Pandora Papers influenced public opinion on wealth inequality and tax justice?\n",
            "Answer: The Pandora Papers have influenced public opinion on wealth inequality and tax justice by exposing the hidden wealth and financial dealings of world leaders and billionaires, leading to calls for transparency, investigations, and promises of appropriate legal action in various countries. Additionally, the leaks have highlighted the use of offshore havens and tax loopholes by the super-rich, prompting discussions on the need for tax crackdowns and closing any loopholes to address the issue of inequality.\n",
            "\n",
            "Question: What measures are being proposed or implemented to prevent the kind of secretive financial activities revealed by the Pandora Papers?\n",
            "Answer: Various measures are being proposed or implemented to prevent the secretive financial activities revealed by the Pandora Papers. Some of these measures include:\n",
            "1. The United States Department of State announced a review of the documents published in the Pandora Papers.\n",
            "2. The Czech National Police promised an investigation into any citizens mentioned in the Pandora Papers.\n",
            "3. Tánaiste Leo Varadkar stated that the Irish government and legislature would move to close any loopholes in tax or company law.\n",
            "4. The European Commission will present new legislative proposals to tackle tax avoidance and tax evasion.\n",
            "5. The Panamanian government has taken steps to supervise all subjects registered in Panama mentioned in the leak and protect the country's image.\n",
            "\n",
            "These measures are aimed at increasing transparency and accountability in financial dealings to prevent similar secretive activities in the future.\n",
            "\n",
            "Question: What challenges do journalists face when investigating and reporting on leaks like the Pandora Papers?\n",
            "Answer: Journalists face challenges such as verifying the authenticity of the leaked documents, protecting their sources, potential legal implications, and ensuring the accuracy and ethical reporting of sensitive information.\n",
            "\n"
          ]
        }
      ],
      "source": [
        "questions = [\n",
        "    \"What are the Pandora Papers and how were they obtained?\",\n",
        "    \"Who are some of the most notable individuals mentioned in the Pandora Papers and what accusations are made against them?\",\n",
        "    \"How do the Pandora Papers differ from previous leaks like the Panama Papers and Paradise Papers?\",\n",
        "    \"What methods do wealthy individuals and corporations use to hide their wealth as revealed by the Pandora Papers?\",\n",
        "    \"What are the legal and ethical implications of the findings in the Pandora Papers?\",\n",
        "    \"How have governments around the world reacted to the revelations in the Pandora Papers?\",\n",
        "    \"What role do offshore financial centers play in the global economy, according to insights from the Pandora Papers?\",\n",
        "    \"How have the Pandora Papers influenced public opinion on wealth inequality and tax justice?\",\n",
        "    \"What measures are being proposed or implemented to prevent the kind of secretive financial activities revealed by the Pandora Papers?\",\n",
        "    \"What challenges do journalists face when investigating and reporting on leaks like the Pandora Papers?\",\n",
        "\n",
        "]\n",
        "\n",
        "for question in questions:\n",
        "    print(f\"Question: {question}\")\n",
        "    print(f\"Answer: {chain.invoke({'question': question})}\")\n",
        "    print()"
      ]
    }
  ],
  "metadata": {
    "kernelspec": {
      "display_name": ".venv",
      "language": "python",
      "name": "python3"
    },
    "language_info": {
      "codemirror_mode": {
        "name": "ipython",
        "version": 3
      },
      "file_extension": ".py",
      "mimetype": "text/x-python",
      "name": "python",
      "nbconvert_exporter": "python",
      "pygments_lexer": "ipython3",
      "version": "3.10.7"
    },
    "colab": {
      "provenance": []
    }
  },
  "nbformat": 4,
  "nbformat_minor": 0
}