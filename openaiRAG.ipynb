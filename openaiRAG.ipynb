{
  "cells": [
    {
      "cell_type": "markdown",
      "metadata": {
        "id": "MM444CwqiMYc"
      },
      "source": [
        "# A RAG application using ChatGPT API"
      ]
    },
    {
      "cell_type": "markdown",
      "metadata": {
        "id": "EaqaNJMPa64r"
      },
      "source": [
        "Before you begin, please go to https://platform.openai.com/api-keys and create an new secret key if you haven't before. Copy the secret key and paste it below."
      ]
    },
    {
      "cell_type": "code",
      "execution_count": null,
      "metadata": {
        "colab": {
          "base_uri": "https://localhost:8080/"
        },
        "collapsed": true,
        "id": "fUY_4kvEiMYe",
        "outputId": "345ecab7-b0ce-45e7-9707-b88fe69e2e72"
      },
      "outputs": [
        {
          "name": "stdout",
          "output_type": "stream",
          "text": [
            "env: OPENAI_API_KEY=\n"
          ]
        }
      ],
      "source": [
        "%env OPENAI_API_KEY = \n",
        "MODEL = \"gpt-3.5-turbo\"\n"
      ]
    },
    {
      "cell_type": "markdown",
      "metadata": {
        "id": "RTJpVPd1ctwr"
      },
      "source": [
        "Install the required dependencies"
      ]
    },
    {
      "cell_type": "code",
      "execution_count": 26,
      "metadata": {
        "id": "1TTGnJGXcakN",
        "colab": {
          "base_uri": "https://localhost:8080/"
        },
        "outputId": "d4ad5067-d82b-4b8b-b1fd-7c79ba67b7b2"
      },
      "outputs": [
        {
          "output_type": "stream",
          "name": "stdout",
          "text": [
            "Requirement already satisfied: langchain in /usr/local/lib/python3.10/dist-packages (0.1.20)\n",
            "Requirement already satisfied: langchain-openai in /usr/local/lib/python3.10/dist-packages (0.1.7)\n",
            "Requirement already satisfied: langchain_pinecone in /usr/local/lib/python3.10/dist-packages (0.1.0)\n",
            "Requirement already satisfied: docarray in /usr/local/lib/python3.10/dist-packages (0.32.1)\n",
            "Requirement already satisfied: pydantic==1.10.8 in /usr/local/lib/python3.10/dist-packages (1.10.8)\n",
            "Requirement already satisfied: pytube in /usr/local/lib/python3.10/dist-packages (15.0.0)\n",
            "Requirement already satisfied: python-dotenv in /usr/local/lib/python3.10/dist-packages (1.0.1)\n",
            "Requirement already satisfied: tiktoken in /usr/local/lib/python3.10/dist-packages (0.7.0)\n",
            "Requirement already satisfied: pinecone-client in /usr/local/lib/python3.10/dist-packages (3.2.2)\n",
            "Requirement already satisfied: scikit-learn in /usr/local/lib/python3.10/dist-packages (1.2.2)\n",
            "Requirement already satisfied: ruff in /usr/local/lib/python3.10/dist-packages (0.4.4)\n",
            "Collecting pypdf\n",
            "  Downloading pypdf-4.2.0-py3-none-any.whl (290 kB)\n",
            "\u001b[2K     \u001b[90m━━━━━━━━━━━━━━━━━━━━━━━━━━━━━━━━━━━━━━━━\u001b[0m \u001b[32m290.4/290.4 kB\u001b[0m \u001b[31m3.2 MB/s\u001b[0m eta \u001b[36m0:00:00\u001b[0m\n",
            "\u001b[?25hRequirement already satisfied: typing-extensions>=4.2.0 in /usr/local/lib/python3.10/dist-packages (from pydantic==1.10.8) (4.11.0)\n",
            "Requirement already satisfied: PyYAML>=5.3 in /usr/local/lib/python3.10/dist-packages (from langchain) (6.0.1)\n",
            "Requirement already satisfied: SQLAlchemy<3,>=1.4 in /usr/local/lib/python3.10/dist-packages (from langchain) (2.0.30)\n",
            "Requirement already satisfied: aiohttp<4.0.0,>=3.8.3 in /usr/local/lib/python3.10/dist-packages (from langchain) (3.9.5)\n",
            "Requirement already satisfied: async-timeout<5.0.0,>=4.0.0 in /usr/local/lib/python3.10/dist-packages (from langchain) (4.0.3)\n",
            "Requirement already satisfied: dataclasses-json<0.7,>=0.5.7 in /usr/local/lib/python3.10/dist-packages (from langchain) (0.6.6)\n",
            "Requirement already satisfied: langchain-community<0.1,>=0.0.38 in /usr/local/lib/python3.10/dist-packages (from langchain) (0.0.38)\n",
            "Requirement already satisfied: langchain-core<0.2.0,>=0.1.52 in /usr/local/lib/python3.10/dist-packages (from langchain) (0.1.52)\n",
            "Requirement already satisfied: langchain-text-splitters<0.1,>=0.0.1 in /usr/local/lib/python3.10/dist-packages (from langchain) (0.0.1)\n",
            "Requirement already satisfied: langsmith<0.2.0,>=0.1.17 in /usr/local/lib/python3.10/dist-packages (from langchain) (0.1.58)\n",
            "Requirement already satisfied: numpy<2,>=1 in /usr/local/lib/python3.10/dist-packages (from langchain) (1.25.2)\n",
            "Requirement already satisfied: requests<3,>=2 in /usr/local/lib/python3.10/dist-packages (from langchain) (2.31.0)\n",
            "Requirement already satisfied: tenacity<9.0.0,>=8.1.0 in /usr/local/lib/python3.10/dist-packages (from langchain) (8.3.0)\n",
            "Requirement already satisfied: openai<2.0.0,>=1.24.0 in /usr/local/lib/python3.10/dist-packages (from langchain-openai) (1.30.1)\n",
            "Requirement already satisfied: orjson>=3.8.2 in /usr/local/lib/python3.10/dist-packages (from docarray) (3.10.3)\n",
            "Requirement already satisfied: rich>=13.1.0 in /usr/local/lib/python3.10/dist-packages (from docarray) (13.7.1)\n",
            "Requirement already satisfied: types-requests>=2.28.11.6 in /usr/local/lib/python3.10/dist-packages (from docarray) (2.31.0.20240406)\n",
            "Requirement already satisfied: typing-inspect>=0.8.0 in /usr/local/lib/python3.10/dist-packages (from docarray) (0.9.0)\n",
            "Requirement already satisfied: regex>=2022.1.18 in /usr/local/lib/python3.10/dist-packages (from tiktoken) (2023.12.25)\n",
            "Requirement already satisfied: certifi>=2019.11.17 in /usr/local/lib/python3.10/dist-packages (from pinecone-client) (2024.2.2)\n",
            "Requirement already satisfied: tqdm>=4.64.1 in /usr/local/lib/python3.10/dist-packages (from pinecone-client) (4.66.4)\n",
            "Requirement already satisfied: urllib3>=1.26.0 in /usr/local/lib/python3.10/dist-packages (from pinecone-client) (2.0.7)\n",
            "Requirement already satisfied: scipy>=1.3.2 in /usr/local/lib/python3.10/dist-packages (from scikit-learn) (1.11.4)\n",
            "Requirement already satisfied: joblib>=1.1.1 in /usr/local/lib/python3.10/dist-packages (from scikit-learn) (1.4.2)\n",
            "Requirement already satisfied: threadpoolctl>=2.0.0 in /usr/local/lib/python3.10/dist-packages (from scikit-learn) (3.5.0)\n",
            "Requirement already satisfied: aiosignal>=1.1.2 in /usr/local/lib/python3.10/dist-packages (from aiohttp<4.0.0,>=3.8.3->langchain) (1.3.1)\n",
            "Requirement already satisfied: attrs>=17.3.0 in /usr/local/lib/python3.10/dist-packages (from aiohttp<4.0.0,>=3.8.3->langchain) (23.2.0)\n",
            "Requirement already satisfied: frozenlist>=1.1.1 in /usr/local/lib/python3.10/dist-packages (from aiohttp<4.0.0,>=3.8.3->langchain) (1.4.1)\n",
            "Requirement already satisfied: multidict<7.0,>=4.5 in /usr/local/lib/python3.10/dist-packages (from aiohttp<4.0.0,>=3.8.3->langchain) (6.0.5)\n",
            "Requirement already satisfied: yarl<2.0,>=1.0 in /usr/local/lib/python3.10/dist-packages (from aiohttp<4.0.0,>=3.8.3->langchain) (1.9.4)\n",
            "Requirement already satisfied: marshmallow<4.0.0,>=3.18.0 in /usr/local/lib/python3.10/dist-packages (from dataclasses-json<0.7,>=0.5.7->langchain) (3.21.2)\n",
            "Requirement already satisfied: hnswlib>=0.6.2 in /usr/local/lib/python3.10/dist-packages (from docarray) (0.8.0)\n",
            "Requirement already satisfied: protobuf>=3.19.0 in /usr/local/lib/python3.10/dist-packages (from docarray) (3.20.3)\n",
            "Requirement already satisfied: jsonpatch<2.0,>=1.33 in /usr/local/lib/python3.10/dist-packages (from langchain-core<0.2.0,>=0.1.52->langchain) (1.33)\n",
            "Requirement already satisfied: packaging<24.0,>=23.2 in /usr/local/lib/python3.10/dist-packages (from langchain-core<0.2.0,>=0.1.52->langchain) (23.2)\n",
            "Requirement already satisfied: anyio<5,>=3.5.0 in /usr/local/lib/python3.10/dist-packages (from openai<2.0.0,>=1.24.0->langchain-openai) (3.7.1)\n",
            "Requirement already satisfied: distro<2,>=1.7.0 in /usr/lib/python3/dist-packages (from openai<2.0.0,>=1.24.0->langchain-openai) (1.7.0)\n",
            "Requirement already satisfied: httpx<1,>=0.23.0 in /usr/local/lib/python3.10/dist-packages (from openai<2.0.0,>=1.24.0->langchain-openai) (0.27.0)\n",
            "Requirement already satisfied: sniffio in /usr/local/lib/python3.10/dist-packages (from openai<2.0.0,>=1.24.0->langchain-openai) (1.3.1)\n",
            "Requirement already satisfied: charset-normalizer<4,>=2 in /usr/local/lib/python3.10/dist-packages (from requests<3,>=2->langchain) (3.3.2)\n",
            "Requirement already satisfied: idna<4,>=2.5 in /usr/local/lib/python3.10/dist-packages (from requests<3,>=2->langchain) (3.7)\n",
            "Requirement already satisfied: markdown-it-py>=2.2.0 in /usr/local/lib/python3.10/dist-packages (from rich>=13.1.0->docarray) (3.0.0)\n",
            "Requirement already satisfied: pygments<3.0.0,>=2.13.0 in /usr/local/lib/python3.10/dist-packages (from rich>=13.1.0->docarray) (2.16.1)\n",
            "Requirement already satisfied: greenlet!=0.4.17 in /usr/local/lib/python3.10/dist-packages (from SQLAlchemy<3,>=1.4->langchain) (3.0.3)\n",
            "Requirement already satisfied: mypy-extensions>=0.3.0 in /usr/local/lib/python3.10/dist-packages (from typing-inspect>=0.8.0->docarray) (1.0.0)\n",
            "Requirement already satisfied: exceptiongroup in /usr/local/lib/python3.10/dist-packages (from anyio<5,>=3.5.0->openai<2.0.0,>=1.24.0->langchain-openai) (1.2.1)\n",
            "Requirement already satisfied: httpcore==1.* in /usr/local/lib/python3.10/dist-packages (from httpx<1,>=0.23.0->openai<2.0.0,>=1.24.0->langchain-openai) (1.0.5)\n",
            "Requirement already satisfied: h11<0.15,>=0.13 in /usr/local/lib/python3.10/dist-packages (from httpcore==1.*->httpx<1,>=0.23.0->openai<2.0.0,>=1.24.0->langchain-openai) (0.14.0)\n",
            "Requirement already satisfied: jsonpointer>=1.9 in /usr/local/lib/python3.10/dist-packages (from jsonpatch<2.0,>=1.33->langchain-core<0.2.0,>=0.1.52->langchain) (2.4)\n",
            "Requirement already satisfied: mdurl~=0.1 in /usr/local/lib/python3.10/dist-packages (from markdown-it-py>=2.2.0->rich>=13.1.0->docarray) (0.1.2)\n",
            "Installing collected packages: pypdf\n",
            "Successfully installed pypdf-4.2.0\n"
          ]
        }
      ],
      "source": [
        "!pip install langchain langchain-openai langchain_pinecone \"langchain[docarray]\" docarray pydantic==1.10.8 pytube python-dotenv tiktoken pinecone-client scikit-learn ruff pypdf"
      ]
    },
    {
      "cell_type": "markdown",
      "metadata": {
        "id": "cj80dfMTcRY5"
      },
      "source": [
        "Let's import the libraries and test if the API works"
      ]
    },
    {
      "cell_type": "code",
      "execution_count": null,
      "metadata": {
        "colab": {
          "base_uri": "https://localhost:8080/"
        },
        "id": "1pCXySN6iMYg",
        "outputId": "b1a8ffe7-33e1-4e3e-ef8d-44afcca42cb9"
      },
      "outputs": [
        {
          "data": {
            "text/plain": [
              "AIMessage(content=\"Why don't scientists trust atoms?\\n\\nBecause they make up everything!\", response_metadata={'token_usage': {'completion_tokens': 13, 'prompt_tokens': 11, 'total_tokens': 24}, 'model_name': 'gpt-3.5-turbo', 'system_fingerprint': None, 'finish_reason': 'stop', 'logprobs': None}, id='run-a361395e-8a16-4f16-91cb-82b349f7fc66-0')"
            ]
          },
          "execution_count": 18,
          "metadata": {},
          "output_type": "execute_result"
        }
      ],
      "source": [
        "from langchain_openai.chat_models import ChatOpenAI\n",
        "from langchain_community.embeddings import OllamaEmbeddings\n",
        "from langchain_openai.embeddings import OpenAIEmbeddings\n",
        "\n",
        "if MODEL.startswith(\"gpt\"):\n",
        "    model = ChatOpenAI(openai_api_key=os.getenv('OPENAI_API_KEY'), model=MODEL)\n",
        "    embeddings = OpenAIEmbeddings()\n",
        "\n",
        "model.invoke(\"Tell me a joke\")"
      ]
    },
    {
      "cell_type": "markdown",
      "metadata": {
        "id": "Fs22cvi4f4ky"
      },
      "source": [
        "The previous output included a lot of unnecessary information like completion tokens, model name, logprobs and etc. Let's use langchain's Output Parser within a Chain and ask ChatGPT to tell another joke."
      ]
    },
    {
      "cell_type": "code",
      "execution_count": null,
      "metadata": {
        "colab": {
          "base_uri": "https://localhost:8080/",
          "height": 35
        },
        "id": "yhE8KECIiMYh",
        "outputId": "742d0037-6738-4f2b-b10f-7aee5536987e"
      },
      "outputs": [
        {
          "data": {
            "application/vnd.google.colaboratory.intrinsic+json": {
              "type": "string"
            },
            "text/plain": [
              "\"Why couldn't the bicycle stand up by itself?\\n\\nBecause it was two-tired!\""
            ]
          },
          "execution_count": 19,
          "metadata": {},
          "output_type": "execute_result"
        }
      ],
      "source": [
        "from langchain_core.output_parsers import StrOutputParser\n",
        "\n",
        "parser = StrOutputParser()\n",
        "\n",
        "chain = model | parser\n",
        "chain.invoke(\"Tell me a joke\")"
      ]
    },
    {
      "cell_type": "markdown",
      "metadata": {
        "id": "DqqxS0aWglqv"
      },
      "source": [
        "Much better! Ignore the \\n or \\t, those are code syntax for creating a new line. Now we're about to provide a template that outlines how prompts should be be structured based on given \"context\" and \"question\". We then fill this template with actual content, essentially guiding the language model to generate answers that are good, precise and relevant. The key takeaway is that this process enables a more controlled and meaningful interaction with language models by provisioning them with clear and structured input."
      ]
    },
    {
      "cell_type": "code",
      "execution_count": null,
      "metadata": {
        "colab": {
          "background_save": true
        },
        "id": "vd_2sk_XiMYi",
        "outputId": "83dfe93c-6df3-4362-df9e-957043c072e5"
      },
      "outputs": [
        {
          "data": {
            "application/vnd.google.colaboratory.intrinsic+json": {
              "type": "string"
            },
            "text/plain": [
              "'\\nAnswer the question based on the context below. If you can\\'t\\nanswer the question, reply \"I don\\'t know\".\\n\\nContext: Here is some context\\n\\nQuestion: Here is a question\\n'"
            ]
          },
          "execution_count": 20,
          "metadata": {},
          "output_type": "execute_result"
        }
      ],
      "source": [
        "from langchain.prompts import PromptTemplate\n",
        "\n",
        "template = \"\"\"\n",
        "Answer the question based on the context below. If you can't\n",
        "answer the question, reply \"I don't know\".\n",
        "\n",
        "Context: {context}\n",
        "\n",
        "Question: {question}\n",
        "\"\"\"\n",
        "\n",
        "prompt = PromptTemplate.from_template(template)\n",
        "prompt.format(context=\"Here is some context\", question=\"Here is a question\")"
      ]
    },
    {
      "cell_type": "markdown",
      "source": [
        "Now we connect it into the Chain we created earlier adding the prompt to the front of it. Next we use invoke() to provide some context by setting it and adding a question following it."
      ],
      "metadata": {
        "id": "l-lq_i1yiKnG"
      }
    },
    {
      "cell_type": "code",
      "execution_count": 22,
      "metadata": {
        "colab": {
          "base_uri": "https://localhost:8080/",
          "height": 35
        },
        "id": "Po9t93oaiMYi",
        "outputId": "952ef5d2-6f8f-4f22-f013-69891696e5f5"
      },
      "outputs": [
        {
          "output_type": "execute_result",
          "data": {
            "text/plain": [
              "'Your name is Santiago.'"
            ],
            "application/vnd.google.colaboratory.intrinsic+json": {
              "type": "string"
            }
          },
          "metadata": {},
          "execution_count": 22
        }
      ],
      "source": [
        "chain = prompt | model | parser\n",
        "\n",
        "chain.invoke({\"context\": \"My parents named me Santiago\", \"question\": \"What's my name'?\"})"
      ]
    },
    {
      "cell_type": "markdown",
      "metadata": {
        "id": "RR5Idd4Yb0-p"
      },
      "source": [
        "Click on the Files icon on the left, then upload the Pandora Papers.pdf from the repository. You can download it and upload it here. Now we shall load the document and split it into pages to be set as context later"
      ]
    },
    {
      "cell_type": "code",
      "execution_count": 27,
      "metadata": {
        "id": "3JJMVweciMYj",
        "colab": {
          "base_uri": "https://localhost:8080/"
        },
        "outputId": "5cc536d8-3cd0-476c-afb4-e97ed84baecc"
      },
      "outputs": [
        {
          "output_type": "execute_result",
          "data": {
            "text/plain": [
              "[Document(page_content=\"Symbol used to represent the leak\\nby the International Consortium of\\nInvestigative Journalists\\nPandora Papers\\nThe Pandora Papers  are 11.9 million leaked documents  with 2.9\\nterabytes  of data that the International Consortium of\\nInvestigative Jour nalists  (ICIJ) published beginning on 3 October\\n2021.[1][2][3] The leak exposed  the secret offshore accounts of 35\\nworld leaders, including current and former presidents, prime\\nministers, and heads of state as well as more than 100 business\\nleaders, billionaires, and celebrities. The news organizations of the\\nICIJ described the document leak as their most expansive exposé\\nof financial secrecy yet, containing documents, images, emails and\\nspreadsheets from 14 financial service companies, in nations\\nincluding Panam a, Switzerland and the United Arab\\nEmirates.[4][5] The size of the leak surpassed their previous release\\nof the Panama Papers  in 2016, which had 11.5 million confidential\\ndocuments and 2.6 terabytes of data .[6][7][8][9][10] The ICIJ said it\\nis not identifying its source for the documents.[11]\\nThe ICIJ estimates that the total global amount of money held offshore (outside the country where the\\nmoney was made) is between US$5.6 trillion and US$32 trillion.[3][12][13]\\nIn total, 35 current and former national leaders appear in the leak, alongside 400 public officials from\\nnearly 100 countries and more than 100 billionaires.[14] Some of the activities were legal according to\\nthe country's tax laws. Some files were showing the date of 1970, but they were actually created\\nbetween the years 1996 to 2020. The data included 130 billionaires listed by Forbes, over 330\\npoliticians, celebr ities, members of royal families and religious leade rs. Among those names are\\nformer British prime minister Tony Blair , Chilean president Sebastián Piñera , former Kenyan\\npresident Uhuru Kenyatta , Montenegrin president Milo Đukanović , Ukrainian president Volodymyr\\nZelenskyy , Qatari emir Tamim bin Hamad  Al Thani , United Arab Emirates prime minist er and Dubai\\nruler Mohammed bin Rashid Al Maktoum , Gabonese president Ali Bongo Ondimba , Lebanese prime\\nminister Najib Mikati ,[15] Ecuado rian president Guillermo Lasso , family member s of former\\nArgentine president Mauricio Macri  and his spin-doctor , Ecuadorian Jaime Durán Barba ,[16][17][18]\\nand Cypriot president Nicos Anastasiades .[19][20] More than 100 billionaires, 29,000 offshore\\naccounts, 30 current and former leaders, and 336 politicians[21] were named in the first leaks on 3\\nOctober 2021.[1][11]\\nKing Abdullah II of Jordan  is one of the main figures named in the papers, with documents showing\\nhe had invested over US$ 100 million in property across the US and UK, including houses in Malibu,\\nCalifornia ,[22] Washington, D.C. , London  and Ascot .[23][24] A UK company controlled by Cherie Blair\\nwas shown to have acquired a £6.45 million property in London by purchasing RomanstoneDisclosures5/12/24, 6:26 PM Pandora Papers - Wikipedia\\nhttps://en.wikipedia.org/wiki/Pandora_Papers 1/21\", metadata={'source': '/content/Pandora Papers.pdf', 'page': 0}),\n",
              " Document(page_content='International Limited, a British Virgin Islands company ; had the property been acquired directly,\\n£312,000 would have been payable in stamp duty . Tony Blair\\'s name appears in a statement of joint\\nincome for the associated mortgage.[25]\\nThe papers also reveal how an office block owned by Azerbaijan \\'s ruling Aliyev family was sold to the\\nCrown Estate , the UK sovereig n\\'s public estate, for £66 million in 2018, netting the Aliyevs a\\n£31 million profit. Another office block worth £33 million was sold to the family in 2009, and was\\ngifted to the son of Azerbaijani president Ilham Aliyev , Heydar.[5] According to Las Vegas Sun,\\n\"Members of the inner circle of Pakistani prime minister Imran Khan  are accused of hiding millions of\\ndollars in wealth in secret companies or trusts\".[26] Supporters of former Ukrainian president Petro\\nPoroshenko  accused his successor Zelensky, who came to power on an anti-corruption campaign, of\\ntax evasi on.[27] Elsewhe re, close associates of Russian president Vladimir Putin , like Svetlana\\nKrivonogikh  and Gennady Timchenko , were revealed to have secret asse ts in Monaco , and Czech\\nprime minister Andrej Babiš , who had campaigned on promising to crack down on corruption and tax\\nevasion , did not declare the use of an offshore investment company in the purchase of eight\\nproperties, including two villas, in Mougins  on the French Riviera  for £12 million.[5][28][29] As a resu lt\\nof the Pandora Papers, more information emerged about Russia-linke d, allegedly Kremlin-linked,\\ndonations to the Tories.[30] Uhuru Kenyatta  was also mentioned, despite being  quoted in 2018 as\\nstating, \"Every public servant\\'s assets must be declared publicly so that people can question and ask –\\nwhat is legitimate?\"[11] Kenyatta and six members of his family have been linked to 13 offshore\\ncompanies.[31] The leaked list also includes transnational criminal organization leaders, such as\\nRaffaele Amato , boss of the Amato-Pagano clan , a clan within the Camorra , dedicated to international\\ndrug trafficking. Amato used a shell company in the UK to buy land and real estate in Spain.[32][33][34]\\nOther global names mentioned include Shakira , who was incorporating new offshore entities while\\ngoing on trial for tax evasion; model Claudia Schiffer ; Indian cricket player Sachin Tendulkar ; Indian\\nbillionaire Anil Amb ani; fugitive  diamantaire  Nirav Modi’s sister Purvi Modi; Alexandre Cazes , the\\nfounder of the dark web site AlphaBay , used to deal in illegal drugs; Pakistani finance minister ,\\nShaukat Fayaz Ahmed Tarin , and several of family members of Pakistan\\'s top generals; and the CEO\\nof Channel One Russia , Konstantin Ernst . Miguel Bosé , Pep Guardiola  and Julio Iglesias  are also\\nnamed.[35][36][37][38][39][40]\\nThe leaked files come from 14 offshore service providers that help clients establish companies in\\nsecrecy jurisdictions.[41]Data sources5/12/24, 6:26 PM Pandora Papers - Wikipedia\\nhttps://en.wikipedia.org/wiki/Pandora_Papers 2/21', metadata={'source': '/content/Pandora Papers.pdf', 'page': 1}),\n",
              " Document(page_content='Offshore service provider sources[41]\\nProvider RecordsTime\\nperiodFounding office\\nlocationYear\\nfounded\\nAll About Offshore Limited 270,328 2002–2019\\n  Seychelles 2007\\nAlemán, Cordero, Galindo & Lee 2,185,783 1970–2019\\n  Panama 1985\\nAlpha Consulting Limited 823,305 1996–2020\\n  Seychelles 2008\\nAsiaciti Trust Asia Limited 1,800,650 1996–2019\\n  Hong Kong 1978\\nCCS Trust Limited 149,378 2001–2017\\n  Belize 2005\\nCIL Trust International 459,476 1996–2019\\n  Belize 1994\\nCommence Overseas Limited 8,661 2004–2017\\n  British Virgin Islands 1992\\nDemetrios A. Demetriades LLC 469,184 1993–2021\\n  Cyprus 1966\\nFidelity Corporate Services Limited 213,733 1998–2019\\n  British Virgin Islands 2005\\nGlenn D. Godfrey and Company LLP189,907 1980–2019\\n  Belize 2003\\nIl Shin 1,575,840 1996–2020\\n  Hong Kong 2004\\nOverseas Management Company\\nInc190,477 1997–2020\\n  Panama 1961\\nSFM Corporate Services 191,623 2000–2019\\n  Switzerland\\n United Arab Emirates2006\\nTrident Trust Company Limited 3,375,331 1970–2019\\n  British Virgin Islands 1986\\nAn ICIJ report focused on the Panamanian law firm of Alemán, Cordero, Galindo & Lee, or Alcogal,\\nsaying it was the \"law firm of the Latin American elite\",[42] having created at least 14,000 shell\\ncompanies and trusts in tax havens . Alcogal was thus mentioned mor e than any other offshore\\nprovider in the leaked documents.[43]\\nFor the uncovering of the papers, the ICIJ worked with journalists from 91 media outlets[44] in 117\\ncountries includin g news organizations such as The Wash ington Post, L\\'Espresso , Le Monde , El País ,\\nSüddeutsche Zeitu ng, the PBS  program Frontline , the Australian Broadc asting Corporation , The\\nGuardian , and the BBC’s Panorama .[11][45]\\nThe following media organisations worked on the investigation:[44]\\n Balkan Investigative Reporting Network\\n Twala\\n La Nación\\n elDiarioAR\\n Infobae\\n HetqAlcogal law firm\\nParticipating media outlets5/12/24, 6:26 PM Pandora Papers - Wikipedia\\nhttps://en.wikipedia.org/wiki/Pandora_Papers 3/21', metadata={'source': '/content/Pandora Papers.pdf', 'page': 2}),\n",
              " Document(page_content='Australian Broadcasting Corporation\\n Australian Financial Review\\n Austrian Broadcasting Corporation\\n Profil\\n Belsat\\n De T ijd\\n Knack\\n Le Soir\\n Organized Crime and Corruption Reporting Project\\n Ink Center for Investigative Journalism\\n Agência Pública\\n Metrópoles\\n Poder 360\\n Revista Piauí\\n Bureau for Investigative Reporting and Data\\n L’Economiste Du Faso\\n VOD\\n The Museba Project\\n CBC/Radio-Canada\\n Toronto Star\\n Ciper Chile\\n Fundación Periodística LaBot\\n CONNECT AS\\n El Espectador\\n National Magazine Comores\\n Centro Latinoamericano de Investigación Periodística\\n Costa Rica Noticias, Canal 13\\n Eburnie Today\\n L’Elephant Dechaine\\n Proyecto Inventario\\n Czech Center for Investigative Journalism\\n Berlingske\\n Danish Broadcasting Corporation\\n Politiken\\n Noticias SIN\\n Diario El Universo\\n Mada Masr\\n El Faro\\n Diario Rombe\\n Eesti Päevaleht\\n Yle – Finnish Broadcasting Company\\n Le Monde\\n Premières Lignes\\n Radio France5/12/24, 6:26 PM Pandora Papers - Wikipedia\\nhttps://en.wikipedia.org/wiki/Pandora_Papers 4/21', metadata={'source': '/content/Pandora Papers.pdf', 'page': 3}),\n",
              " Document(page_content=\"iFact\\n Deutsche W elle\\n Norddeutscher Rundfunk\\n Süddeutsche Zeitung\\n Westdeutscher Rundfunk\\n Ghana Business News\\n Zami Reports\\n Plaza Pública\\n Contracorriente\\n Stand News\\n Direkt36\\n Reykjavík Media\\n Stundin\\n The Indian Express\\n Tempo\\n Shomrim\\n L'Espresso\\n The Asahi Shimbun\\n Kyodo News\\n Arab Reporters for Investigative Journalism\\n Africa Uncensored\\n The Elephant\\n Re:Baltica\\n Daraj Media\\n Daily Observer Newspaper\\n FrontPage Africa\\n Africa Report\\n Siena.lt\\n Reporter .lu\\n Nation Publications L TD\\n Platform for Investigative Journalism\\n Malaysiakini\\n Malian Network of Investigative Journalists\\n Times of Malta\\n L’Express\\n Proceso\\n Quinto Elemento Lab\\n MANS\\n Le Desk\\n The Namibian\\n Centre for Investigative Journalism, Nepal\\n Kantipur Daily\\n Het Financieele Dagblad\\n Platform Investico5/12/24, 6:26 PM Pandora Papers - Wikipedia\\nhttps://en.wikipedia.org/wiki/Pandora_Papers 5/21\", metadata={'source': '/content/Pandora Papers.pdf', 'page': 4}),\n",
              " Document(page_content='Trouw\\n New Zealand Media and Entertainment\\n TVNZ\\n Confidencial\\n L’Evenement\\n Premium T imes\\n Aftenposten\\n E24\\n The News\\n Grupo ABC Color\\n Convoca\\n IDL-Reporteros\\n Philippine Center for Investigative Journalism\\n Rappler\\n Gazeta Wyborcza\\n Expresso\\n Centro De Periodismo Investigativo\\n RISE\\n Important Stories\\n Impact.sn\\n KRIK\\n OŠTRO\\n amaBhungane Centre for Investigative Journalism\\n Carte Blanche  (M-Net )\\n Newstapa\\n El País\\n LaSexta\\n Spotify\\n SVT\\n TAMEDIA\\n Jamii Media\\n Isra News Agency\\n De Cive (Le Citoyen) et La Lettre Agricole\\n Flambeau des Democrates\\n L’Union pour la Patrie\\n Quoditien Liberte\\n Inkyfada\\n NMG Uganda\\n Slidstvo.Info\\n BBC\\n Finance Uncovered\\n Private Eye\\n The Guardian\\n El Nuevo Herald5/12/24, 6:26 PM Pandora Papers - Wikipedia\\nhttps://en.wikipedia.org/wiki/Pandora_Papers 6/21', metadata={'source': '/content/Pandora Papers.pdf', 'page': 5}),\n",
              " Document(page_content='Frontline  (PBS)\\n McClatchy\\n Miami Herald\\n The W ashington Post\\n Univision\\n Semanario Búsqueda\\n Armando.Info\\n Makanday Center for Investigative Journalism\\n Ivory Coast : Prime Minister Patrick Achi’s office condemned the \"malicious use\" of\\ninformation.[46]\\n Kenya : President Uhuru Kenyatta  said the Pandora Papers would be good for transparency ,\\nand said he would respond fully when he returned from a trip abroad. He had previously\\ndemanded that all civil servants account for their wealth.[47]\\n Sri Lanka : President Gotabaya Rajapaksa  has ordered the Bribery Commission to probe into\\nSri Lankans named in the Pandora Papers, which exposed financial fraud globally .[48]\\n Jordan : The Jordanian government called claims made about King Abdullah II in the leak\\n\"distorted\", while the King himself denounced what he claimed was a \"campaign against\\nJordan\".[49]\\n India : The Indian Ministry of Finance promised an investigation into the revelations in the leak,\\nand that appropriate legal action would be taken if necessary .[50]\\n Hong Kong : Chief Executive Carrie Lam refused to comment on the report and whether the\\ncurrent government would follow up on the incident, saying only that the Hong Kong government\\nhas a \"very robust\" declaration of interests system.[51] Leung Chun-ying, the former chief\\nexecutive named in the document, pointed out that the relevant reports were misleading, claiming\\nthat only directly held shares need to be declared, and indirectly held and traded shares do not\\nneed to be declared, and he countered that the position of participating in the investigation was a\\n\"foreign agent\".[52]\\n Indonesia : Coordinating Minister for the Economy Airlangga Hartarto  and Coordinating\\nMinister for Maritime Affairs and Investment Luhut Binsar Pandjaitan  are named on the leak.\\nAirlangga denied any knowledge of the transactions by the corporation he owned in the British\\nVirgin Islands. Luhut denied partnership with an Indonesian state-owned oil firm then changed the\\ncompany\\'s name.[53]\\n Lebanon : Lebanese Prime Minister Najib Mikati  and former Prime Minister Hassan Diab\\ndenied any wrongdoing.[54][55]\\n Pakistan : Prime Minister  Imran Khan  said that all citizens mentioned in the Pandora Papers\\nwould be investigated and appropriate action taken in case of wrongdoing.[56][57] Ahsan Iqbal ,Reactions\\nAfrica\\nAsia5/12/24, 6:26 PM Pandora Papers - Wikipedia\\nhttps://en.wikipedia.org/wiki/Pandora_Papers 7/21', metadata={'source': '/content/Pandora Papers.pdf', 'page': 6}),\n",
              " Document(page_content='secretary general of the Pakistan Muslim League (N) , called for the resignation of Prime Minister\\nKhan.[54]\\n Malaysia : Prime Minister Anwar Ibrahim  called for the content of the Pandora Papers to be\\ndiscussed in Parliament after it was revealed several of ficials, including former finance minister\\nTengku Zafrul Aziz, as well as former finance minister Daim Zainuddin  were named in the\\nleaks.[58] Subsequently in Parliament, Minister in the Prime Minister ’s Department (Parliament and\\nLaw) Wan Junaidi Tuanku Jaafar  said that the Government will instruct its agencies to look into\\nclaims related to the Papers. In addition, former Finance Minister Daim Zainuddin maintained his\\nbusiness dealings were legitimate.[59][60]\\n Singapore : The Monetary Authority of Singapore  (MAS) will examine information relating to\\none of the companies named in the report, a Singapore-based firm called Asiaciti Trust. The firm\\nadded that the reports were \"based on incomplete and sometimes erroneous information\",\\nincluding some illegally obtained.[61][62] Subsequently in Parliament, Minister for Finance\\nLawrence W ong said that no significant concerns on financial institutions in Singapore were raised\\nby the leaks, although the MAS will engage institutions to see if there is a need to tighten controls.\\nThe two companies named in the report, including Trident Trust Company Singapore, are licensed\\nand regulated.[63]\\n United Kingdom : Former prime minister Tony Blair  and his wife denied any wrongdoing, with\\nthe couple\\'s spokesperson saying \"the Blairs pay full tax on all their earnings. And have never\\nused of fshore schemes either to hide transactions or avoid tax.”[64]\\n European Union : EU tax commissioner Paolo Gentiloni told the European Parliament that the\\nEuropean commission will present new legislative proposals to tackle tax avoidance and tax\\nevasion by the end of the year .[65]\\n Czech Republic : The Czech National Police  promised an investigation into any citizens\\nmentioned in the Pandora Papers, including ex-Prime Minister Andrej Babiš .[66] Babiš denied any\\nwrongdoing, and alleged that the timing and/or content of the leak was aimed at influencing the\\nupcoming legislative election .[67]\\n Ireland : Tánaiste  Leo V aradkar  stated that the Irish government and legislature would move\\nimmediately to close any loopholes in tax or company law that allow individuals and businesses to\\nuse the country as an of fshore location .[68]\\n Russia : President Putin\\'s spokesman Dmitry Peskov  dismissed the accusations against Putin,\\nwho is not directly named in the Pandora Papers, as \"unsubstantiated claims\" after several\\nindividuals linked to Putin were mentioned in the leak.[69] Russian Foreign Ministry spokeswoman\\nMaria Zakharova  said that the United States was \"the largest\" tax haven  and \"billions of dollars in\\nSouth Dakota belong to those accused of financial crimes.\"[54]\\n Ukraine : President V olodymyr Zelensky\\'s of fice denied any wrongdoing after he was named in\\nthe leak.[27] Ex-journalist and V olodymyr Zelensky\\'s associate Serhiy Leshchenko  said \"there is no\\nsubject for a scandal\" and \"in Ukraine, of fshore companies are so widespread that the owners of\\nstalls already have an of fshore company\".[70]\\n Mexico : President Andrés Manuel López Obrador  stated that he would push for an\\ninvestigation into any Mexican nationals named in the leak.[71]Europe\\nNorth America5/12/24, 6:26 PM Pandora Papers - Wikipedia\\nhttps://en.wikipedia.org/wiki/Pandora_Papers 8/21', metadata={'source': '/content/Pandora Papers.pdf', 'page': 7}),\n",
              " Document(page_content='United States : The United States Department of State  announced that it would review the\\ndocuments published in the Pandora Papers. According to the leak, trusts in several U.S.\\nstates[72] — including South Dakota ,[73][74][75][76] Florida , Delaware , Texas , and Nevada  — were\\nsheltering at least US$1 billion for of fshore clients.[77]\\n Dominican Republic : President Luis Abinader  denied any wrongdoing after being named in the\\nleak, adding that he \"has been completely separated from the administration and management of\\nall the companies controlled by the family , incorporated in the Dominican Republic or abroad\"\\nsince he assumed power in August 2020.[78]\\n Panama : The Procuraduría General de la Nación (PGN), a government agency , was reported\\nto be analyzing the contents of the leak, seeking foundations for a criminal investigation of those\\nmentioned in the leak.[79][80] The Colegio Nacional de Abogados (CNA), a local trade association,\\nstated that Panamanian law firms had of fered their services lawfully , the leak does not reflect\\nreality , threatens the rule according to higher law , law firms and their customers around the world\\nenjoy confidentiality which may only be breached by a court order , and the leak poses a threat to\\nPanamanian law firms as it presents them as allies of criminals.[81][82]\\nAlcogal, one of the largest sources of leaked documents, stated that many people named in\\nthe leak had never been its clients, the ICIJ had divulged inexact and outdated information and\\na wrong image of their law firm, already decided who was guilty , and Alcogal considers\\nthemselves part of the solution and are not infallible. The Panamanian government sent the\\nICIJ a letter through law firm Benesch, Friedlander , Coplan & Aronof f LLP , stating whatever\\nimage the ICIJ had of Panama in 2016 is out of date, and the Panamanian government is\\nwilling to start dialogue to avoid further great damage to Panama, as happened during the\\nPanama Papers. The government argued that the name \"Panama\" became linked to of fshore\\ncompanies and money laundering due to ef forts from the ICIJ, despite not being the main tax\\nheaven or destination for tax structuring contrary to what the Tax Justice Network  said, the\\nICIJ\\'s use of \"Panama Papers\" caused global media to associate Panama with tax heavens,\\nand listed measures the government had taken after the Panama Papers.[83][84][85] They also\\nannounced the suspension of 50% of all companies registered in Panama, stated the aim to\\ncurb sensationalist coverage and counteract any negative consequences resulting from\\nscandals where the country may be involved by others. The ICIJ was told to be cautious and\\navoid references to Panama without \"informative justification\". The government will supervise\\nall subjects registered in Panama mentioned in the leak to protect the country\\'s image and\\nreputation through the newly created Superintendencia de Sujetos no Financieros, and the\\nDGI will begin taxing procedures to all natural and juridical persons in the leak and is willing to\\nexchange information with other jurisdictions.[86][87][83][88] Alcogal, the Panamanian law firm\\nprotagonist of Pandora\\'s papers, announced that it has created a transparency department in\\norder to reinforce its obligations in the matter and its commitment to a regulation recently\\napproved by the National Government.[89]\\n Chile : President Sebastián Piñera  denied having hidden assets in tax havens.[26]\\n Ecuador : President Guillermo Lasso  denied any wrongdoing.[46] He said that he voluntarily\\ncooperated with the Pandora Papers investigation, and that regarding his naming in the leak,\\n\"most of the societies mentioned were legally dissolved in the past, and I have no link with those\\nthat may still exist\".[90]Central America and Caribbean\\nSouth America5/12/24, 6:26 PM Pandora Papers - Wikipedia\\nhttps://en.wikipedia.org/wiki/Pandora_Papers 9/21', metadata={'source': '/content/Pandora Papers.pdf', 'page': 8}),\n",
              " Document(page_content='Uruguay : The National Secretariat for the Fight against Money Laundering and Terrorism\\nFinancing of the Presidential Of fice of Uruguay started ex officio  to research on the case to find\\nout about the roles of law firms  based in Montevideo aimed to provide of fshore entities to clients\\nworldwide as intermediaries of Alcogal.[91]\\nList of people named in the Pandora Papers\\nAzerbaijani Laundromat\\nBahamas Leaks\\nBanca Privada d\\'Andorra\\nCyprus Papers\\nDubai Uncovered\\nFinCEN Files\\nThe Laundromat  (2019 film)\\nLuxLeaks\\nMauritius Leaks\\nOffshore Leaks\\nPanama Papers\\nParadise Papers\\nRussian Laundromat\\nSwiss Leaks\\nSuisse secrets\\n1. Miller , Greg; Cenziper , Debbie; Whoriskey , Peter (3 October 2021). \"Pandora Papers – A Global\\nInvestigation – Billions Hidden Beyond Reach – Trove of secret files details opaque financial\\nuniverse where global elite shield riches from taxes, probes and accountability\"  (https://www .washi\\nngtonpost.com/business/interactive/2021/pandora-papers-of fshore-finance/) . The W ashington\\nPost. Archived  (https://web.archive.org/web/2021 1003163739/https://www .washingtonpost.com/bu\\nsiness/interactive/2021/pandora-papers-of fshore-finance/)  from the original on 3 October 2021 .\\nRetrieved 3 October  2021 .\\n2. Díaz-Struck, Emilia; et al. (3 October 2021). \"Pandora Papers: An of fshore data tsunami – The\\nPandora Papers\\'s 1 1.9 million records arrived from 14 dif ferent of fshore services firms in a jumble\\nof files and formats – even ink-on-paper – presenting a massive data-management challenge\"  (htt\\nps://www .icij.org/investigations/pandora-papers/about-pandora-papers-leak-dataset/) .\\nInternational Consortium of Investigative Journalists . Archived  (https://web.archive.org/web/2021 1\\n006063105/https://www .icij.org/investigations/pandora-papers/about-pandora-papers-leak-datase\\nt/) from the original on 6 October 2021 . Retrieved 4 October  2021 .\\n3. Pandora Papers reporting team (4 October 2021). \"Pandora Papers: A simple guide to the\\nPandora Papers leak\"  (https://www .bbc.com/news/world-58780561) . BBC News . Archived  (https://\\nweb.archive.org/web/2021 1003171231/https://www .bbc.com/news/world-58780561)  from the\\noriginal on 3 October 2021 . Retrieved 4 October  2021 .See also\\nReferences5/12/24, 6:26 PM Pandora Papers - Wikipedia\\nhttps://en.wikipedia.org/wiki/Pandora_Papers 10/21', metadata={'source': '/content/Pandora Papers.pdf', 'page': 9}),\n",
              " Document(page_content='4. \"Offshore havens and hidden riches of world leaders and billionaires exposed in unprecedented\\nleak – ICIJ\"  (https://www .icij.org/investigations/pandora-papers/global-investigation-tax-havens-of f\\nshore/) . International Consortium of Investigative Journalists. 3 October 2021. Archived  (https://we\\nb.archive.org/web/2021 1003164024/https://www .icij.org/investigations/pandora-papers/global-inve\\nstigation-tax-havens-of fshore/)  from the original on 3 October 2021 . Retrieved 3 October  2021 .\\n5. \"Pandora Papers: Secret wealth and dealings of world leaders exposed\"  (https://www .bbc.co.uk/n\\news/world-58780465) . BBC News . 3 October 2021. Archived  (https://web.archive.org/web/2021 10\\n03165026/https://www .bbc.co.uk/news/world-58780465)  from the original on 3 October 2021 .\\nRetrieved 3 October  2021 .\\n6. \"What are the Panama Papers? A guide to history\\'s biggest data leak\"  (https://www .theguardian.c\\nom/news/2016/apr/03/what-you-need-to-know-about-the-panama-papers) . The Guardian . 5 April\\n2016. Archived  (https://web.archive.org/web/20160404234544/http://www .theguardian.com/news/\\n2016/apr/03/what-you-need-to-know-about-the-panama-papers)  from the original on 4 April 2016 .\\nRetrieved 5 October  2021 .\\n7. \"Bigger than Panama: Several Pakistani names on upcoming Pandora Papers\"  (https://www .sama\\na.tv/news/2021/10/bigger-than-panama-several-pakistani-names-on-upcoming-pandora-papers/) .\\nSamaa TV. 2 October 2021. Archived  (https://web.archive.org/web/2021 1002183652/https://www .s\\namaa.tv/news/2021/10/bigger-than-panama-several-pakistani-names-on-upcoming-pandora-pape\\nrs/) from the original on 2 October 2021 . Retrieved 2 October  2021 .\\n8. \"Pandora Papers: Exposé featuring financial secrets of high-profile individuals to be released\\nSunday\"  (https://www .geo.tv/latest/373664-pandora-papers-exposé-featuring-financial-secrets-of-\\nhigh-profile-individuals-to-be-released-sunday) . www .geo.tv . 2 October 2021. Archived  (https://we\\nb.archive.org/web/2021 1003064623/https://www .geo.tv/latest/373664-pandora-papers-expos%C\\n3%A9-featuring-financial-secrets-of-high-profile-individuals-to-be-released-sunday)  from the\\noriginal on 3 October 2021 . Retrieved 30 January  2022 .\\n9. \"ICIJ set to release Pandora Papers same like Panama Papers\"  (https://dunyanews.tv/en/Pakista\\nn/622410-ICIJ-set-to-release-Pandora-Papers-same-like-Panama-Papers) . Dunya News . 2\\nOctober 2021. Archived  (https://web.archive.org/web/2021 1002190934/https://dunyanews.tv/en/P\\nakistan/622410-ICIJ-set-to-release-Pandora-Papers-same-like-Panama-Papers)  from the original\\non 2 October 2021 . Retrieved 2 October  2021 .\\n10. Ghumman, Faisal Ali (2 October 2021). \"ICIJ \\'to release\\' Pandora Papers (Panama-2) also\\ninvolving Pakistanis tomorrow\"  (https://gnnhd.tv/news/6593) . GNN – Pakistan\\'s Largest News\\nPortal. Archived  (https://web.archive.org/web/2021 1002190929/https://gnnhd.tv/news/6593)  from\\nthe original on 2 October 2021 . Retrieved 2 October  2021 .\\n11. The Guardian investigations team (3 October 2021). \"Pandora papers: biggest ever leak of\\noffshore data exposes financial secrets of rich and powerful\"  (https://www .theguardian.com/news/\\n2021/oct/03/pandora-papers-biggest-ever-leak-of-of fshore-data-exposes-financial-secrets-of-rich-\\nand-powerful) . The Guardian . Archived  (https://web.archive.org/web/2021 1003164029/https://ww\\nw.theguardian.com/news/2021/oct/03/pandora-papers-biggest-ever-leak-of-of fshore-data-exposes\\n-financial-secrets-of-rich-and-powerful)  from the original on 3 October 2021 . Retrieved 3 October\\n2021 .\\n12. Walt, V ivienne (4 October 2021). \"Pandora Papers show tax crackdowns are no match for the\\nsuperrich\"  (https://fortune.com/2021/10/04/pandora-papers-show-tax-crackdowns-are-no-match-fo\\nr-the-super-rich/) . Fortune . Archived  (https://web.archive.org/web/2021 1004160640/https://fortune.\\ncom/2021/10/04/pandora-papers-show-tax-crackdowns-are-no-match-for-the-super-rich/)  from the', metadata={'source': '/content/Pandora Papers.pdf', 'page': 10}),\n",
              " Document(page_content='r-the-super-rich/) . Fortune . Archived  (https://web.archive.org/web/2021 1004160640/https://fortune.\\ncom/2021/10/04/pandora-papers-show-tax-crackdowns-are-no-match-for-the-super-rich/)  from the\\noriginal on 4 October 2021 . Retrieved 4 October  2021 .5/12/24, 6:26 PM Pandora Papers - Wikipedia\\nhttps://en.wikipedia.org/wiki/Pandora_Papers 11/21', metadata={'source': '/content/Pandora Papers.pdf', 'page': 10}),\n",
              " Document(page_content='13. Miller , Greg; Cenziper , Debbie; Whoriskey , Peter (3 October 2021). \"VIDEO (at 7:12 of 7:43 total)\\n– Pandora Papers – A Global Investigation – Billions Hidden Beyond Reach – Trove of secret files\\ndetails opaque financial universe where global elite shield riches from taxes, probes and\\naccountability\"  (https://www .washingtonpost.com/business/interactive/2021/pandora-papers-of fsh\\nore-finance/) . The W ashington Post . Archived  (https://web.archive.org/web/2021 1003163739/http\\ns://www .washingtonpost.com/business/interactive/2021/pandora-papers-of fshore-finance/)  from\\nthe original on 3 October 2021 . Retrieved 3 October  2021 .\\n14. \"World Leaders Deny W rongdoing After Pandora Papers Leak\"  (https://dailynewsbrief.com/2021/1\\n0/05/world-leaders-deny-wrongdoing-after-pandora-papers-leak/) . Daily News Brief . 5 October\\n2021. Archived  (https://web.archive.org/web/2021 1022022252/https://dailynewsbrief.com/2021/10/\\n05/world-leaders-deny-wrongdoing-after-pandora-papers-leak/)  from the original on 22 October\\n2021 . Retrieved 5 October  2021 .\\n15. Chehayeb, Kareem. \"Lebanon PM Mikati among of ficials named in Pandora Papers\"  (https://www .\\naljazeera.com/news/2021/10/4/lebanese-prime-minister-among-of ficials-listed-in-pandora-papers) .\\nAl Jazeera . Archived  (https://web.archive.org/web/2021 1004201654/https://www .aljazeera.com/ne\\nws/2021/10/4/lebanese-prime-minister-among-of ficials-listed-in-pandora-papers)  from the original\\non 4 October 2021 . Retrieved 4 October  2021 .\\n16. Lafuente, Jan Martínez Ahrens, Javier (3 October 2021). \"Pandora Papers in Latin America: Three\\nactive heads of state and 1 1 former presidents operated in tax havens\"  (https://english.elpais.com/\\nusa/2021-10-03/pandora-papers-in-latin-america-three-active-heads-of-state-and-1 1-former-presid\\nents-operated-in-tax-havens.html) . EL PAÍS English Edition . Archived  (https://web.archive.org/we\\nb/2021 1003181312/https://english.elpais.com/usa/2021-10-03/pandora-papers-in-latin-america-thr\\nee-active-heads-of-state-and-1 1-former-presidents-operated-in-tax-havens.html)  from the original\\non 3 October 2021 . Retrieved 7 October  2021 .\\n17. \"Argentina ranks third for of fshore bank accounts in \\'Pandora Papers\\' leak\"  (https://www .batimes.c\\nom.ar/news/argentina/argentina-ranks-third-for-of fshore-bank-accounts-in-pandora-papers-leak.ph\\ntml). www .batimes.com.ar . 5 October 2021. Archived  (https://web.archive.org/web/2021 10070251 1\\n4/https://www .batimes.com.ar/news/argentina/argentina-ranks-third-for-of fshore-bank-accounts-in-\\npandora-papers-leak.phtml)  from the original on 7 October 2021 . Retrieved 7 October  2021 .\\n18. Mon, Hugo Alconada Mon (4 October 2021). \"Mariano Macri, hermano del expresidente argentino\\nMauricio Macri, controló una \\'of fshore\\' en Belice\"  (https://elpais.com/pandora-papers/2021-10-04/\\nmariano-macri-hermano-del-expresidente-argentino-mauricio-macri-controlo-una-of fshore-en-belic\\ne.html) . El País  (in Spanish). Archived  (https://web.archive.org/web/2021 1007025103/https://elpai\\ns.com/pandora-papers/2021-10-04/mariano-macri-hermano-del-expresidente-argentino-mauricio-\\nmacri-controlo-una-of fshore-en-belice.html)  from the original on 7 October 2021 . Retrieved\\n7 October  2021 .\\n19. \"Massive Leak Exposes the Hidden Fortunes of W orld\\'s Elite and Crooks\"  (https://www .occrp.org/\\nen/the-pandora-papers/massive-leak-exposes-the-hidden-fortunes-of-worlds-elite-and-crooks) .\\nOrganized Crime and Corruption Reporting . 3 October 2021. Archived  (https://web.archive.org/we\\nb/2021 1003182900/https://www .occrp.org/en/the-pandora-papers/massive-leak-exposes-the-hidd\\nen-fortunes-of-worlds-elite-and-crooks)  from the original on 3 October 2021 . Retrieved 4 October\\n2021 .\\n20. \"Presidente de Ecuador Guillermo Lasso creó un entramado \\'of fshore\\' para ocultar su fortuna,\\nsegún los Pandora Papers\"  (https://elcomercio.pe/mundo/latinoamerica/pandora-papers-guillermo', metadata={'source': '/content/Pandora Papers.pdf', 'page': 11}),\n",
              " Document(page_content='2021 .\\n20. \"Presidente de Ecuador Guillermo Lasso creó un entramado \\'of fshore\\' para ocultar su fortuna,\\nsegún los Pandora Papers\"  (https://elcomercio.pe/mundo/latinoamerica/pandora-papers-guillermo\\n-lasso-el-entramado-of fshore-del-banquero-que-llego-a-presidente-de-ecuador-panama-dakota-d\\nel-sur-noticia/)  [President of Ecuador Guillermo Lasso creates an of fshore framework to hide his\\nwealth, according to the Pandora Papers]. El Comercio  (in Spanish). 3 October 2021. Archived  (ht\\ntps://web.archive.org/web/2021 1003203737/https://elcomercio.pe/mundo/latinoamerica/pandora-p\\napers-guillermo-lasso-el-entramado-of fshore-del-banquero-que-llego-a-presidente-de-ecuador-pa\\nnama-dakota-del-sur-noticia/)  from the original on 3 October 2021 . Retrieved 3 October  2021 .5/12/24, 6:26 PM Pandora Papers - Wikipedia\\nhttps://en.wikipedia.org/wiki/Pandora_Papers 12/21', metadata={'source': '/content/Pandora Papers.pdf', 'page': 11}),\n",
              " Document(page_content='21. \"Offshore havens and hidden riches of world leaders and billionaires exposed in unprecedented\\nleak\"  (https://www .icij.org/investigations/pandora-papers/global-investigation-tax-havens-of fshor\\ne/). International Consortium of Investigative Journalists . 3 October 2021. Archived  (https://web.ar\\nchive.org/web/2021 1003164024/https://www .icij.org/investigations/pandora-papers/global-investig\\nation-tax-havens-of fshore/)  from the original on 3 October 2021 . Retrieved 4 October  2021 .\\n22. Miller , Greg (3 October 2021). \"Jordan\\'s King Abdullah uses shell companies to buy lavish\\noverseas homes, records show\"  (https://www .washingtonpost.com/world/interactive/2021/jordan-a\\nbdullah-shell-companies-luxury-homes/) . The W ashington Post . Archived  (https://web.archive.org/\\nweb/2021 10031651 18/https://www .washingtonpost.com/world/interactive/2021/jordan-abdullah-sh\\nell-companies-luxury-homes/)  from the original on 3 October 2021 . Retrieved 4 October  2021 .\\n23. \"Pandora Papers: King of Jordan amassed £70m secret property empire\"  (https://www .bbc.com/n\\news/world-58781350) . BBC News . 3 October 2021. Archived  (https://web.archive.org/web/2021 10\\n03165306/https://www .bbc.com/news/world-58781350)  from the original on 3 October 2021 .\\nRetrieved 3 October  2021 .\\n24. Goodley , Simon; Safi, Michael (3 October 2021). \"King of Jordan hidden property empire worth\\nmore than $100m, Pandora papers reveal\"  (https://www .theguardian.com/news/2021/oct/03/king-o\\nf-jordan-hidden-property-empire-worth-more-than-100m-pandora-papers-reveal) . The Guardian .\\nArchived  (https://web.archive.org/web/2021 1003202756/https://www .theguardian.com/news/2021/\\noct/03/king-of-jordan-hidden-property-empire-worth-more-than-100m-pandora-papers-reveal)  from\\nthe original on 3 October 2021 . Retrieved 3 October  2021 .\\n25. \"Pandora Papers: Blairs saved £312,000 stamp duty in property deal\"  (https://www .bbc.co.uk/new\\ns/uk-58780559) . BBC News . 3 October 2021. Archived  (https://web.archive.org/web/2021 1003165\\n026/https://www .bbc.co.uk/news/uk-58780559)  from the original on 3 October 2021 . Retrieved\\n3 October  2021 .\\n26. \"A look at world leaders named in the Pandora Papers\"  (https://web.archive.org/web/2021 1016043\\n153/https://lasvegassun.com/news/2021/oct/04/a-look-at-world-leaders-named-in-the-pandora-pa\\nper/). Las V egas Sun . 4 October 2021. Archived from the original  (https://lasvegassun.com/news/2\\n021/oct/04/a-look-at-world-leaders-named-in-the-pandora-paper/)  on 16 October 2021 . Retrieved\\n5 October  2021 .\\n27. \"Pandora Papers: Ukraine leader seeks to justify of fshore accounts\"  (https://www .aljazeera.com/n\\news/2021/10/4/pandora-papers-ukraine-leader-seeks-to-justify-of fshore-accounts) . Al-Jazeera . 4\\nOctober 2021. Archived  (https://web.archive.org/web/2021 1203070814/https://www .aljazeera.com/\\nnews/2021/10/4/pandora-papers-ukraine-leader-seeks-to-justify-of fshore-accounts)  from the\\noriginal on 3 December 2021 . Retrieved 5 October  2021 .\\n28. \"Pandora Papers: Leaked files show hidden financial af fairs of world leaders\"  (https://www .irishtim\\nes.com/business/financial-services/pandora-papers-leaked-files-show-hidden-financial-af fairs-of-w\\norld-leaders-1.4690044) . The Irish T imes . 3 October 2021. Archived  (https://web.archive.org/web/\\n2021 1003175552/https://www .irishtimes.com/business/financial-services/pandora-papers-leaked-fi\\nles-show-hidden-financial-af fairs-of-world-leaders-1.4690044)  from the original on 3 October\\n2021 . Retrieved 3 October  2021 .\\n29. Goodley , Simon; Tait, Robert; Alecci, Scilla (3 October 2021). \"Revealed: Czech PM used of fshore\\ncompanies to buy £13m French mansion\"  (https://www .theguardian.com/news/2021/oct/03/reveal\\ned-czech-pm-used-of fshore-companies-to-buy-13m-french-mansion) . The Guardian . Archived  (htt\\nps://web.archive.org/web/2021 1003170956/https://www .theguardian.com/news/2021/oct/03/reveal\\ned-czech-pm-used-of fshore-companies-to-buy-13m-french-mansion)  from the original on 3', metadata={'source': '/content/Pandora Papers.pdf', 'page': 12}),\n",
              " Document(page_content='ps://web.archive.org/web/2021 1003170956/https://www .theguardian.com/news/2021/oct/03/reveal\\ned-czech-pm-used-of fshore-companies-to-buy-13m-french-mansion)  from the original on 3\\nOctober 2021 . Retrieved 3 October  2021 .\\n30. \"Pandora Papers: Questions over Tory donations by ex-Russian minister\\'s wife\"  (https://www .bbc.\\ncom/news/uk-politics-5871 1151). BBC News . 4 October 2021. Archived  (https://web.archive.org/w\\neb/2021 1106232435/https://www .bbc.com/news/uk-politics-5871 1151) from the original on 6\\nNovember 2021 . Retrieved 6 November  2021 .5/12/24, 6:26 PM Pandora Papers - Wikipedia\\nhttps://en.wikipedia.org/wiki/Pandora_Papers 13/21', metadata={'source': '/content/Pandora Papers.pdf', 'page': 12}),\n",
              " Document(page_content='31. \"Pandora Papers: Uhuru Kenyatta\\'s family\\'s secret assets exposed\"  (https://emeatribune.com/pan\\ndora-papers-uhuru-kenyatta-familys-secret-assets-exposed-by-leak/) . EMEA  Tribune, Breaking\\nNews, World News, Latest News, T op Headlines . 3 October 2021. Archived  (https://web.archive.or\\ng/web/2021 10041 10656/https://emeatribune.com/pandora-papers-uhuru-kenyatta-familys-secret-a\\nssets-exposed-by-leak/)  from the original on 4 October 2021 . Retrieved 4 October  2021 .\\n32. Scala, Gennaro (10 April 2021). \"\"Pandora papers\", il boss Raf faele Amato che ispirò la fiction\\nGomorra nella lista dei grandi evasori fiscali\"  (https://corrieredelmezzogiorno.corriere.it//napoli/cro\\nnaca/21_ottobre_04/pandora-papers-boss-amato-nell-elenco-milionari-che-hanno-nascosto-all-est\\nero-loro-tesori-f00a7e30-2502-1 1ec-8660-cf7b8c42df f1.shtml)  [\\'Pandora Papers\\', the boss\\nRaffaele Amato who inspired the fictitious Gomorra is on the list of big tax evaders]. Corriere del\\nMezzogiorno  (in Italian). Archived  (https://web.archive.org/web/2021 1005043647/https://corrierede\\nlmezzogiorno.corriere.it//napoli/cronaca/21_ottobre_04/pandora-papers-boss-amato-nell-elenco-m\\nilionari-che-hanno-nascosto-all-estero-loro-tesori-f00a7e30-2502-1 1ec-8660-cf7b8c42df f1.shtml)\\nfrom the original on 5 October 2021 . Retrieved 5 October  2021 .\\n33. Grasso, Daniele; Hidalgo Pérez, Montse (3 October 2021). \"Los \\'Papeles de Pandora\\' destapan\\nlos negocios opacos de 600 españoles y 35 mandatarios internacionales\"  (https://elpais.com/pand\\nora-papers/2021-10-03/los-papeles-de-pandora-destapan-los-negocios-opacos-de-600-espanoles\\n-y-35-mandatarios-internacionales.html)  [The \\'Pandora Papers\\' uncover the opaque deals of 600\\nSpaniards and 35 international leaders]. El País  (in Spanish). Archived  (https://web.archive.org/we\\nb/2021 1005043645/https://elpais.com/pandora-papers/2021-10-03/los-papeles-de-pandora-desta\\npan-los-negocios-opacos-de-600-espanoles-y-35-mandatarios-internacionales.html)  from the\\noriginal on 5 October 2021 . Retrieved 5 October  2021 .\\n34. \"\" Pandora Papers \" : plongée mondiale dans les secrets de la finance of fshore\"  (https://www .lem\\nonde.fr/les-decodeurs/article/2021/10/03/pandora-papers-plongee-mondiale-dans-les-secrets-de-l\\na-finance-of fshore_6096967_4355770.html) . Le Monde.fr  (in French). 3 October 2021. Archived  (h\\nttps://web.archive.org/web/2021 1005043645/https://www .lemonde.fr/les-decodeurs/article/2021/1\\n0/03/pandora-papers-plongee-mondiale-dans-les-secrets-de-la-finance-of fshore_6096967_43557\\n70.html)  from the original on 5 October 2021 . Retrieved 5 October  2021 .\\n35. Grasso, Daniele; R Blanco, Patricia; Reina, Elena (3 October 2021). \"Miguel Bosé ha sido\\naccionista de una sociedad en Panamá vinculada a un banco suizo\"  (https://elpais.com/pandora-p\\napers/2021-10-03/miguel-bose-ha-sido-accionista-de-una-sociedad-en-panama-vinculada-a-un-b\\nanco-suizo.html) . El País . Archived  (https://web.archive.org/web/2021 1003184151/https://elpais.co\\nm/pandora-papers/2021-10-03/miguel-bose-ha-sido-accionista-de-una-sociedad-en-panama-vinc\\nulada-a-un-banco-suizo.html)  from the original on 3 October 2021 . Retrieved 3 October  2021 .\\n36. \"\\'Pandora Papers\\': Pep Guardiola y Julio Iglesias ocultaron durante años su patrimonio a través\\nde cuentas opacas\"  (https://www .ondacero.es/noticias/economia/pandora-papers-pep-guardiola-ju\\nlio-iglesias-ocultaron-anos-patrimonio-traves-cuentas-opacas_2021 10036159ddc0f64dc50001d76\\ndfc.html)  [\\'Pandora Papers\\': Pep Guardiola and Julio Iglesias for years hid their assets through\\nopaque accounts]. Onda Cero  (in Spanish). 3 October 2021. Archived  (https://web.archive.org/we\\nb/2021 1003171819/https://www .ondacero.es/noticias/economia/pandora-papers-pep-guardiola-juli\\no-iglesias-ocultaron-anos-patrimonio-traves-cuentas-opacas_2021 10036159ddc0f64dc50001d76d\\nfc.html)  from the original on 3 October 2021 . Retrieved 3 October  2021 .', metadata={'source': '/content/Pandora Papers.pdf', 'page': 13}),\n",
              " Document(page_content='o-iglesias-ocultaron-anos-patrimonio-traves-cuentas-opacas_2021 10036159ddc0f64dc50001d76d\\nfc.html)  from the original on 3 October 2021 . Retrieved 3 October  2021 .\\n37. Dubinsky , Zach (3 October 2021). \"Huge \\'Pandora Papers\\' leak exposes secret of fshore accounts\\nof politicians, celebrities and billionaires\"  (https://www .cbc.ca/news/pandora-papers-of fshore-tax-a\\nvoidance-1.6197303) . CBC News . Archived  (https://web.archive.org/web/2021 1003184405/https://\\nwww .cbc.ca/news/pandora-papers-of fshore-tax-avoidance-1.6197303)  from the original on 3\\nOctober 2021 . Retrieved 3 October  2021 .5/12/24, 6:26 PM Pandora Papers - Wikipedia\\nhttps://en.wikipedia.org/wiki/Pandora_Papers 14/21', metadata={'source': '/content/Pandora Papers.pdf', 'page': 13}),\n",
              " Document(page_content='38. Gibbs, Margot; Politzer , Malia (3 October 2021). \"Prime Minister Imran Khan promised \\'new\\nPakistan\\' but members of his inner circle secretly moved millions of fshore\"  (https://www .icij.org/inv\\nestigations/pandora-papers/pakistan-imran-khan-prime-minister-allies-of fshore/) . International\\nConsortium of Investigative Journalists . Archived  (https://web.archive.org/web/2021 1003181918/ht\\ntps://www .icij.org/investigations/pandora-papers/pakistan-imran-khan-prime-minister-allies-of fshor\\ne/) from the original on 3 October 2021 . Retrieved 3 October  2021 .\\n39. Gibbs, Margot; Kranhold, Kathryn; Cosic, Jelena (3 October 2021). \"Putin image-maker\\'s role in\\nbillion-dollar cinema deal hidden of fshore\"  (https://www .icij.org/investigations/pandora-papers/vladi\\nmir-putin-konstantin-ernst-russia-tv-of fshore/) . International Consortium of Investigative\\nJournalists . Archived  (https://web.archive.org/web/2021 1003181653/https://www .icij.org/investigati\\nons/pandora-papers/vladimir-putin-konstantin-ernst-russia-tv-of fshore/)  from the original on 3\\nOctober 2021 . Retrieved 3 October  2021 .\\n40. \"Pandora Papers investigation exposes of fshore assets of heads of state and government\"  (http\\ns://www .scmp.com/news/world/europe/article/3151065/pandora-papers-investigation-exposes-of fs\\nhore-assets-heads-state?module=lead_hero_story&pgtype=homepage) . South China Morning\\nPost. Agence France-Presse. 4 October 2021. Archived  (https://web.archive.org/web/2021 10041 1\\n0658/https://www .scmp.com/news/world/europe/article/3151065/pandora-papers-investigation-exp\\noses-of fshore-assets-heads-state?module=lead_hero_story&pgtype=homepage)  from the original\\non 4 October 2021 . Retrieved 3 October  2021 .\\n41. \"Who are the firms at the heart of the Pandora Papers?\"  (https://projects.icij.org/investigations/pan\\ndora-papers/charts/who-are-the-firms-at-the-heart-of-the-pandora-papers) . ICIJ. 3 October 2021.\\nArchived  (https://web.archive.org/web/2021 100321 1906/https://projects.icij.org/investigations/pand\\nora-papers/charts/who-are-the-firms-at-the-heart-of-the-pandora-papers)  from the original on 3\\nOctober 2021 . Retrieved 3 October  2021 .\\n42. ICIJ [@ICIJorg] (3 October 2021). \"They include Alcogal, a go-to law firm of the Latin American\\nelite has created at least 14,000 shell companies and trusts in tax havens, more than any other\\noffshore provider in the leaked documents\"  (https://twitter .com/ICIJorg/status/1444703307696689\\n156) (Tweet ) – via Twitter .\\n43. Medina, Brenda (3 October 2021). \"When Latin America\\'s elite wanted to hide their wealth, they\\nturned to this Panama firm – ICIJ\"  (https://www .icij.org/investigations/pandora-papers/alcogal-pan\\nama-latin-america-politicians/) . ICIJ. Archived  (https://web.archive.org/web/2021 1003165709/http\\ns://www .icij.org/investigations/pandora-papers/alcogal-panama-latin-america-politicians/)  from the\\noriginal on 3 October 2021 . Retrieved 3 October  2021 .\\n44. Shiel, Fergus (4 October 2021). \"About the Pandora Papers\"  (https://www .icij.org/investigations/pa\\nndora-papers/about-pandora-papers-investigation/) . ICIJ. Archived  (https://web.archive.org/web/2\\n0211229231012/https://www .icij.org/investigations/pandora-papers/about-pandora-papers-investig\\nation/)  from the original on 29 December 2021 . Retrieved 4 October  2021 .\\n45. \"Hidden of fshore treasures of rich and powerful revealed\"  (https://www .thenews.com.pk/print/8974\\n71-hidden-of fshore-treasures-of-rich-and-powerful-revealed) . The News International . 4 October\\n2021. Archived  (https://web.archive.org/web/2021 1004042323/https://www .thenews.com.pk/print/8\\n97471-hidden-of fshore-treasures-of-rich-and-powerful-revealed)  from the original on 4 October\\n2021 . Retrieved 4 October  2021 .\\n46. \"Leaders deny wrongdoing under the \\'Pandora Papers\\' revelations\"  (https://www .euractiv .com/sect\\nion/global-europe/news/leaders-deny-wrongdoing-under-the-pandora-papers-revelations/) .', metadata={'source': '/content/Pandora Papers.pdf', 'page': 14}),\n",
              " Document(page_content='46. \"Leaders deny wrongdoing under the \\'Pandora Papers\\' revelations\"  (https://www .euractiv .com/sect\\nion/global-europe/news/leaders-deny-wrongdoing-under-the-pandora-papers-revelations/) .\\nEuractiv . 4 October 2021. Archived  (https://web.archive.org/web/20220107233420/https://www .eur\\nactiv.com/section/global-europe/news/leaders-deny-wrongdoing-under-the-pandora-papers-revela\\ntions/)  from the original on 7 January 2022 . Retrieved 5 October  2021 .5/12/24, 6:26 PM Pandora Papers - Wikipedia\\nhttps://en.wikipedia.org/wiki/Pandora_Papers 15/21', metadata={'source': '/content/Pandora Papers.pdf', 'page': 14}),\n",
              " Document(page_content='47. Lawler , Dave (4 October 2021). \"Pandora Papers: How leaders are Responding\"  (https://news.yah\\noo.com/pandora-papers-leaders-responding-003214939.html) . Yahoo News . Archived  (https://we\\nb.archive.org/web/2021 1111024322/https://news.yahoo.com/pandora-papers-leaders-responding-\\n003214939.html)  from the original on 1 1 November 2021 . Retrieved 6 October  2021 .\\n48. de Silva, Charumini (7 October 2020). \"President orders Pandora Papers probe\"  (https://www .ft.lk/\\ntop-story/President-orders-Pandora-Papers-probe/26-724051) . Daily FT . Archived  (https://web.arc\\nhive.org/web/2021 1111024129/https://www .ft.lk/top-story/President-orders-Pandora-Papers-probe/\\n26-724051)  from the original on 1 1 November 2021 . Retrieved 6 October  2021 .\\n49. \"Jordan rejects Pandora Papers claims as \\'distorted\\' \" (https://www .france24.com/en/live-news/20\\n211004-jordan-rejects-pandora-papers-claims-as-distorted) . France 24 . 4 October 2021. Archived\\n(https://web.archive.org/web/20220107233356/https://www .france24.com/en/live-news/2021 1004-j\\nordan-rejects-pandora-papers-claims-as-distorted)  from the original on 7 January 2022 . Retrieved\\n4 October  2021 .\\n50. \"India to investigate into \\'Pandora Papers\\' leak: Finance Ministry\"  (https://www .timesnownews.co\\nm/business-economy/economy/article/india-to-investigate-into-pandora-papers-leak-finance-minist\\nry/820252) . Times Now News . 4 October 2021. Archived  (https://web.archive.org/web/2021 111102\\n4036/https://www .timesnownews.com/business-economy/economy/article/india-to-investigate-into-\\npandora-papers-leak-finance-ministry/820252)  from the original on 1 1 November 2021 . Retrieved\\n4 October  2021 .\\n51. \"【潘朵拉文件】梁振英未申報子公司  林鄭拒評  僅指申報制度「非常穩健」 \" (https://www .thestand\\nnews.com/politics/%E6%BD%98%E6%9C%B5%E6%8B%89%E6%96%87%E4%BB%B6%E6%A\\n2%81%E6%8C%AF%E8%8B%B1%E6%9C%AA%E7%94%B3%E5%A0%B1%E5%AD%90%E\\n5%85%AC%E5%8F%B8-%E6%9E%97%E9%84%AD%E6%8B%92%E8%A9%95-%E5%83%8\\n5%E6%8C%87%E7%94%B3%E5%A0%B1%E5%88%B6%E5%BA%A6%E9%9D%9E%E5%B\\n8%B8%E7%A9%A9%E5%81%A5) . 立場新聞 . Archived  (https://web.archive.org/web/2021 122914\\n5355/https://www .thestandnews.com/politics/%E6%BD%98%E6%9C%B5%E6%8B%89%E6%9\\n6%87%E4%BB%B6%E6%A2%81%E6%8C%AF%E8%8B%B1%E6%9C%AA%E7%94%B3%E\\n5%A0%B1%E5%AD%90%E5%85%AC%E5%8F%B8-%E6%9E%97%E9%84%AD%E6%8B%9\\n2%E8%A9%95-%E5%83%85%E6%8C%87%E7%94%B3%E5%A0%B1%E5%88%B6%E5%B\\nA%A6%E9%9D%9E%E5%B8%B8%E7%A9%A9%E5%81%A5)  from the original on 29\\nDecember 2021 . Retrieved 5 October  2021 .\\n52. \"【潘朵拉文件】 ICIJ 揭多國政要離岸公司隱藏資產、梁振英董建華上榜  梁反批報道媒體 \" (https://in\\news.hket.com/article/3073430) . 香港經濟日報 . Archived  (https://web.archive.org/web/2021 1111024\\n002/https://inews.hket.com/article/3073430)  from the original on 1 1 November 2021 . Retrieved\\n5 October  2021 .\\n53. Muthiariny , Dewi Elvia (4 October 2021). \"Airlangga, Luhut Responds to Pandora Papers Report\"\\n(https://en.tempo.co/read/1513567/airlangga-luhut-responds-to-pandora-papers-report) . Tempo.co\\nEnglish V ersion . Archived  (https://web.archive.org/web/2021 11110241 13/https://en.tempo.co/read/\\n1513567/airlangga-luhut-responds-to-pandora-papers-report)  from the original on 1 1 November\\n2021 . Retrieved 6 October  2021 .\\n54. \"Governments launch investigations after Pandora Papers show how elite shield riches\"  (https://w\\nww.washingtonpost.com/business/2021/10/03/pandora-papers-investigation-reaction/) . The\\nWashington Post . 4 October 2021. Archived  (https://web.archive.org/web/2021 1111025919/https://\\nwww .washingtonpost.com/business/2021/10/03/pandora-papers-investigation-reaction/)  from the\\noriginal on 1 1 November 2021 . Retrieved 5 October  2021 .5/12/24, 6:26 PM Pandora Papers - Wikipedia\\nhttps://en.wikipedia.org/wiki/Pandora_Papers 16/21', metadata={'source': '/content/Pandora Papers.pdf', 'page': 15}),\n",
              " Document(page_content='55. \"Lebanon\\'s former PM Diab says he gave up shares in company mentioned in \\'Pandora Papers\\' \"\\n(https://www .reuters.com/world/middle-east/lebanons-former-pm-diab-says-he-gave-up-shares-co\\nmpany-mentioned-pandora-papers-2021-10-04/) . Reuters . 4 October 2021. Archived  (https://web.\\narchive.org/web/2021 1111024026/https://www .reuters.com/world/middle-east/lebanons-former-pm\\n-diab-says-he-gave-up-shares-company-mentioned-pandora-papers-2021-10-04/)  from the\\noriginal on 1 1 November 2021 . Retrieved 5 October  2021 .\\n56. \"PM Imran Khan announces to investigate all Pakistanis involved in Pandora Papers\"  (https://natio\\nn.com.pk/03-Oct-2021/pm-imran-khan-announces-to-investigate-all-pakistanis-included-in-pandor\\na-papers) . The Nation . 3 October 2021. Archived  (https://web.archive.org/web/2021 1003215758/ht\\ntps://nation.com.pk/03-Oct-2021/pm-imran-khan-announces-to-investigate-all-pakistanis-included-\\nin-pandora-papers)  from the original on 3 October 2021 . Retrieved 4 October  2021 .\\n57. \"Pandora Papers expose wealth of Pakistan PM Imran Khan\\'s allies\"  (https://www .aljazeera.com/n\\news/2021/10/4/pandora-papers-wealth-pakistan-pm-imran-khan-allies-military) . Al-Jazeera . 4\\nOctober 2021. Archived  (https://web.archive.org/web/2021 10041 10700/https://www .aljazeera.com/\\nnews/2021/10/4/pandora-papers-wealth-pakistan-pm-imran-khan-allies-military)  from the original\\non 4 October 2021 . Retrieved 5 October  2021 .\\n58. \"Pandora Papers leak prompts calls for action in Asia\"  (https://www .seattletimes.com/business/pa\\nndora-papers-leak-prompts-calls-for-action-in-asia/) . The Seattle T imes . 4 October 2021. Archived\\n(https://web.archive.org/web/2021 1004202819/https://www .seattletimes.com/business/pandora-pa\\npers-leak-prompts-calls-for-action-in-asia/)  from the original on 4 October 2021 . Retrieved\\n4 October  2021 .\\n59. Tan, V incent (25 October 2021). \"Malaysian government to instruct agencies to probe claims in\\nPandora Papers, says minister\"  (https://www .channelnewsasia.com/asia/malaysia-government-ins\\ntruct-agencies-probe-pandora-papers-wan-junaidi-2266696) . CNA . Retrieved 30 January  2022 .\\n60. \"Pandora Papers: Former Malaysia finance minister says investments are legitimate in response\\nto media report\"  (https://www .channelnewsasia.com/asia/pandora-papers-malaysia-daim-zainuddi\\nn-former-finance-minister-investments-legitimate-response-media-report-2220581) . CNA . 4\\nOctober 2021 . Retrieved 30 January  2022 .\\n61. Rising, David (3 March 2023). \"Pandora Papers leak prompts calls for action in Asia\"  (https://www .\\nseattletimes.com/business/pandora-papers-leak-prompts-calls-for-action-in-asia/) . Seattle T imes .\\nRetrieved 4 October  2021 .\\n62. Tan, Jolene (5 October 2021). \"MAS examining info from Pandora Papers about Asiaciti Trust, a\\nS\\'pore-based firm mentioned in leak\"  (https://www .straitstimes.com/business/banking/spore-based\\n-asiaciti-trust-named-in-pandora-papers-data-leak-under-close) . The Straits T imes . Retrieved\\n30 January  2022 .\\n63. Mahmud, Aqil Haziq (3 November 2021). \"Pandora Papers: No significant concerns over money\\nlaundering by Singapore institutions, says Lawrence W ong\" (https://www .channelnewsasia.com/si\\nngapore/pandora-papers-singapore-mas-asiacity-trust-trident-trust-lawrence-wong-2288316) .\\nCNA . Retrieved 30 January  2022 .\\n64. \"A look at world leaders named in the Pandora Papers\"  (https://web.archive.org/web/2021 1016043\\n153/https://lasvegassun.com/news/2021/oct/04/a-look-at-world-leaders-named-in-the-pandora-pa\\nper/). Las V egas Sun . 4 October 2021. Archived from the original  (https://lasvegassun.com/news/2\\n021/oct/04/a-look-at-world-leaders-named-in-the-pandora-paper/)  on 16 October 2021 . Retrieved\\n6 October  2021 .\\n65. \"After Pandora Papers, EU says it plans new rules against tax avoidance\"  (https://www .reuters.co\\nm/world/europe/after-pandora-papers-eu-says-it-plans-new-rules-against-tax-avoidance-2021-10-', metadata={'source': '/content/Pandora Papers.pdf', 'page': 16}),\n",
              " Document(page_content='65. \"After Pandora Papers, EU says it plans new rules against tax avoidance\"  (https://www .reuters.co\\nm/world/europe/after-pandora-papers-eu-says-it-plans-new-rules-against-tax-avoidance-2021-10-\\n06/). Reuters . 6 October 2021. Archived  (https://web.archive.org/web/20220107233357/https://ww\\nw.reuters.com/world/europe/after-pandora-papers-eu-says-it-plans-new-rules-against-tax-avoidan\\nce-2021-10-06/)  from the original on 7 January 2022 . Retrieved 6 October  2021 .5/12/24, 6:26 PM Pandora Papers - Wikipedia\\nhttps://en.wikipedia.org/wiki/Pandora_Papers 17/21', metadata={'source': '/content/Pandora Papers.pdf', 'page': 16}),\n",
              " Document(page_content='66. \"Czech police promise to \\'act upon\\' Pandora Papers, as revelations about prime minister become\\ncampaign topic\"  (https://www .washingtonpost.com/world/2021/10/04/pandora-czech-republic-andr\\nej-babis/) . Washington Post . ISSN  0190-8286  (https://www .worldcat.org/issn/0190-8286) . Archived\\n(https://web.archive.org/web/2021 1217175059/https://www .washingtonpost.com/world/2021/10/0\\n4/pandora-czech-republic-andrej-babis/)  from the original on 17 December 2021 . Retrieved\\n4 October  2021 .\\n67. \"Billionaire Czech Leader Dismisses Pandora Papers Report as Election Ambush\"  (https://www .bl\\noomberg.com/news/articles/2021-10-04/czech-leader-dismisses-pandora-papers-report-as-electio\\nn-ambush) . Bloomberg.com . 4 October 2021. Archived  (https://web.archive.org/web/2021 1015201\\n651/https://www .bloomberg.com/news/articles/2021-10-04/czech-leader-dismisses-pandora-paper\\ns-report-as-election-ambush)  from the original on 15 October 2021 . Retrieved 4 October  2021 .\\n68. Bray, Jennifer . \"Pandora Papers: Government will move to close any loopholes – V aradkar\"  (http\\ns://www .irishtimes.com/news/politics/pandora-papers-government-will-move-to-close-any-loophole\\ns-varadkar-1.4690797) . The Irish T imes . Archived  (https://web.archive.org/web/20220107233429/\\nhttps://www .irishtimes.com/news/politics/pandora-papers-government-will-move-to-close-any-loop\\nholes-varadkar-1.4690797)  from the original on 7 January 2022 . Retrieved 4 October  2021 .\\n69. \"Pandora Papers: Russia dismisses leaks implicating Putin\"  (https://www .aljazeera.com/news/202\\n1/10/4/pandora-papers-russia-dismisses-leaks-implicating-putin) . Al Jazeera . Archived  (https://we\\nb.archive.org/web/2021 1222205733/https://www .aljazeera.com/news/2021/10/4/pandora-papers-r\\nussia-dismisses-leaks-implicating-putin)  from the original on 22 December 2021 . Retrieved\\n4 October  2021 .\\n70. Ценз ор.НЕТ (4 October 2021). \"\"Пре дмета для ск андала не т, в Украине у же ск оро в ладе льцы\\nларьк ов будут име ть офшорные к омпании\", - Серг ей Лещ енко. ВИДЕО\"  (https://censor .net/ru/\\nvideo_news/3291851/predmeta_dlya_skandala_net_v_ukraine_uje_skoro_vladeltsy_larkov_budut\\n_imet_ofshornye_kompanii_sergeyi) . Цензор.НЕТ  (in Russian). Archived  (https://web.archive.org/\\nweb/2021 1006070715/https://censor .net/ru/video_news/3291851/predmeta_dlya_skandala_net_v\\n_ukraine_uje_skoro_vladeltsy_larkov_budut_imet_ofshornye_kompanii_sergeyi)  from the original\\non 6 October 2021 . Retrieved 6 October  2021 .\\n71. \"Lopez Obrador says Mexican nationals in Pandora Papers should be investigated\"  (https://www .r\\neuters.com/world/americas/lopez-obrador-says-mexican-nationals-pandora-papers-should-be-inv\\nestigated-2021-10-04/) . Reuters . 4 October 2021. Archived  (https://web.archive.org/web/2021 1111\\n024318/https://www .reuters.com/world/americas/lopez-obrador-says-mexican-nationals-pandora-p\\napers-should-be-investigated-2021-10-04/)  from the original on 1 1 November 2021 . Retrieved\\n5 October  2021 .\\n72. Cenziper , Debbie; Fitzgibbon, Will; Georges, Salwan (4 October 2021). \"Foreign money secretly\\nfloods U.S. tax havens. Some of it is tainted\"  (https://www .washingtonpost.com/business/interactiv\\ne/2021/booming-us-tax-haven-industry/) . The W ashington Post . Archived  (https://web.archive.org/\\nweb/2021 1005100139/https://www .washingtonpost.com/business/interactive/2021/booming-us-tax\\n-haven-industry/)  from the original on 5 October 2021 . Retrieved 6 October  2021 .\\n73. Kaplan, Juliana (4 October 2021). \"The Oscar Mayer heir who gave away his fortune to fight\\ninequality explains why South Dakota became America\\'s secret US$360 billion tax haven and how\\nit exposes the US as the world\\'s \\'weak link\\' \" (https://www .businessinsider .com/why-rich-hide-mon\\ney-south-dakota-tax-haven-pandora-papers-2021-10) . Business Insider . Archived  (https://web.arc\\nhive.org/web/2021 1006190916/https://www .businessinsider .com/why-rich-hide-money-south-dakot', metadata={'source': '/content/Pandora Papers.pdf', 'page': 17}),\n",
              " Document(page_content='ey-south-dakota-tax-haven-pandora-papers-2021-10) . Business Insider . Archived  (https://web.arc\\nhive.org/web/2021 1006190916/https://www .businessinsider .com/why-rich-hide-money-south-dakot\\na-tax-haven-pandora-papers-2021-10)  from the original on 6 October 2021 . Retrieved 6 October\\n2021 .5/12/24, 6:26 PM Pandora Papers - Wikipedia\\nhttps://en.wikipedia.org/wiki/Pandora_Papers 18/21', metadata={'source': '/content/Pandora Papers.pdf', 'page': 17}),\n",
              " Document(page_content='74. Michel, Casey (5 October 2021). \"The United States of Dirty Money\"  (https://www .theatlantic.com/i\\ndeas/archive/2021/10/how-south-dakota-became-haven-dirty-money/620298/) . The Atlantic.\\nArchived  (https://web.archive.org/web/2021 100701 1304/https://www .theatlantic.com/ideas/archive/\\n2021/10/how-south-dakota-became-haven-dirty-money/620298/)  from the original on 7 October\\n2021 . Retrieved 6 October  2021 .\\n75. Garment, Suzanne (5 October 2021). \"Pandora Papers put South Dakota in unsavory company .\\nHere\\'s why\"  (https://www .nbcnews.com/think/opinion/pandora-papers-put-south-dakota-unsavory-\\ncompany-here-s-why-ncna1280761) . NBC News . Retrieved 6 October  2021 .\\n76. Ivanova, Irina (6 October 2021). \"Biggest tax haven in U.S.? South Dakota, says Pandora Papers\\ninvestigation\"  (https://www .cbsnews.com/news/pandora-papers-tax-haven-south-dakota/) . CBS\\nNews. Archived  (https://web.archive.org/web/2021 1006190525/https://www .cbsnews.com/news/pa\\nndora-papers-tax-haven-south-dakota/)  from the original on 6 October 2021 . Retrieved 6 October\\n2021 .\\n77. \"Pandora papers reveal South Dakota\\'s role as US$367bn tax haven\"  (https://www .theguardian.co\\nm/news/2021/oct/04/pandora-papers-reveal-south-dakotas-role-as-367bn-tax-haven) . the\\nGuardian . 4 October 2021. Archived  (https://web.archive.org/web/2021 1004205324/https://www .th\\neguardian.com/news/2021/oct/04/pandora-papers-reveal-south-dakotas-role-as-367bn-tax-haven)\\nfrom the original on 4 October 2021 . Retrieved 4 October  2021 .\\n78. \"Panama\\'s Pandora Papers snag Dominican leader\"  (https://dominicantoday .com/dr/local/2021/1\\n0/04/panamas-pandora-papers-snag-dominican-leader/) . Dominican T oday . 4 October 2021.\\nArchived  (https://web.archive.org/web/2021 1111024229/https://dominicantoday .com/dr/local/2021/\\n10/04/panamas-pandora-papers-snag-dominican-leader/)  from the original on 1 1 November 2021 .\\nRetrieved 5 October  2021 .\\n79. Reyes, Getzalette (4 October 2021). \"Ministerio Público analiza la \\'incipiente información revelada\\nhasta el momento en los Pandora Papers\\' \" (https://www .prensa.com/judiciales/ministerio-publico-\\nanaliza-la-incipiente-informacion-revelada-hasta-el-momento-en-los-pandora-papers/)  [Public\\nMinistry analyses the \\'incipient information revealed so far by the Panama Papers\\']. La Prensa\\n(Panamá)  (in Spanish). Archived  (https://web.archive.org/web/2021 1016044551/https://www .prens\\na.com/judiciales/ministerio-publico-analiza-la-incipiente-informacion-revelada-hasta-el-momento-e\\nn-los-pandora-papers/)  from the original on 16 October 2021 . Retrieved 4 October  2021 .\\n80. \"Pandora Papers: Ministerio Público analiza información revelada en los \\'Pandora Papers\\' \" (http\\ns://www .tvn-2.com/nacionales/Ministerio-Publico-investigacion-Pandora-Papers_0_5959654007.ht\\nml). TVN. 4 October 2021. Archived  (https://web.archive.org/web/2021 1004233042/https://www .tv\\nn-2.com/nacionales/Ministerio-Publico-investigacion-Pandora-Papers_0_5959654007.html)  from\\nthe original on 4 October 2021 . Retrieved 4 October  2021 .\\n81. Reyes, Getzalette (4 October 2021). \"\\'La abogacía panameña ha ofrecido servicios corporativos\\nde forma legítima\\', dice el Colegio Nacional de Abogados\"  (https://www .prensa.com/judiciales/la-a\\nbogacia-panamena-por-mas-de-94-anos-ha-ofrecido-los-servicios-corporativos-de-forma-legitima-\\ndice-el-colegio-nacional-de-abogados/)  [\\'Panamanian lawyers have of fered corporate services in\\na legitimate manner\\' says the National College of Lawyers]. La Prensa (Panamá)  (in Spanish).\\nArchived  (https://web.archive.org/web/2021 1004231831/https://www .prensa.com/judiciales/la-abo\\ngacia-panamena-por-mas-de-94-anos-ha-ofrecido-los-servicios-corporativos-de-forma-legitima-di\\nce-el-colegio-nacional-de-abogados/)  from the original on 4 October 2021 . Retrieved 4 October\\n2021 .\\n82. \"Pandora Papers: Colegio Nacional de Abogados se pronuncia por los \\'Pandora Papers\\' \" (https://', metadata={'source': '/content/Pandora Papers.pdf', 'page': 18}),\n",
              " Document(page_content='2021 .\\n82. \"Pandora Papers: Colegio Nacional de Abogados se pronuncia por los \\'Pandora Papers\\' \" (https://\\nwww .tvn-2.com/nacionales/Colegio-Nacional-Abogados-Pandora-Papers-video_0_5959654015.ht\\nml). TVN. 4 October 2021. Archived  (https://web.archive.org/web/2021 1005010338/https://www .tv\\nn-2.com/nacionales/Colegio-Nacional-Abogados-Pandora-Papers-video_0_5959654015.html)\\nfrom the original on 5 October 2021 . Retrieved 5 October  2021 .5/12/24, 6:26 PM Pandora Papers - Wikipedia\\nhttps://en.wikipedia.org/wiki/Pandora_Papers 19/21', metadata={'source': '/content/Pandora Papers.pdf', 'page': 18}),\n",
              " Document(page_content='83. \"\\'Pandora Papers\\', la nueva filtración de documentos del ICIJ | La Prensa Panamá\"  (https://www .\\nprensa.com/mundo/pandora-papers-la-nueva-filtracion-de-documentos-del-icij/) .\\nwww .prensa.com . 3 October 2021. Archived  (https://web.archive.org/web/2021 1005010339/http\\ns://www .prensa.com/mundo/pandora-papers-la-nueva-filtracion-de-documentos-del-icij/)  from the\\noriginal on 5 October 2021 . Retrieved 5 October  2021 .\\n84. \"El gobierno panameño se pone a disposición del ICIJ | La Prensa Panamá\"  (https://www .prensa.\\ncom/politica/el-gobierno-panameno-se-pone-a-disposicion-del-icij/) . www .prensa.com . 2 October\\n2021. Archived  (https://web.archive.org/web/2021 1005010338/https://www .prensa.com/politica/el-\\ngobierno-panameno-se-pone-a-disposicion-del-icij/)  from the original on 5 October 2021 .\\nRetrieved 5 October  2021 .\\n85. \"Pandora Papers: Panamá solicita diálogo con el ICIJ para evitar manchar el nombre del país\"  (htt\\nps://www .tvn-2.com/nacionales/Gobierno-consorcio-periodistas-Panama-financiero-video_0_5958\\n154151.html) . TVN. 2 October 2021. Archived  (https://web.archive.org/web/2021 1005010341/http\\ns://www .tvn-2.com/nacionales/Gobierno-consorcio-periodistas-Panama-financiero-video_0_59581\\n54151.html)  from the original on 5 October 2021 . Retrieved 5 October  2021 .\\n86. \"Pandora Papers: El escenario local de los Pandora Papers: Casos de corrupción, dineros del\\nchavismo y de tres expresidentes\"  (https://www .tvn-2.com/nacionales/Panama-Pandora-Papers-C\\nasos-corrupcion-expresidentes-V arela-Martinelli-Perez-Balladares_0_5958904085.html) . TVN. 3\\nOctober 2021. Archived  (https://web.archive.org/web/2021 1005002510/https://www .tvn-2.com/naci\\nonales/Panama-Pandora-Papers-Casos-corrupcion-expresidentes-V arela-Martinelli-Perez-Ballada\\nres_0_5958904085.html)  from the original on 5 October 2021 . Retrieved 5 October  2021 .\\n87. \"Panamá investigará las conductas de todos los implicados en los Pandora Papers | La Prensa\\nPanamá\"  (https://www .prensa.com/politica/panama-investigara-las-conductas-de-todos-los-implic\\nados-en-los-pandora-papers/) . www .prensa.com . 3 October 2021. Archived  (https://web.archive.or\\ng/web/2021 1005003701/https://www .prensa.com/politica/panama-investigara-las-conductas-de-to\\ndos-los-implicados-en-los-pandora-papers/)  from the original on 5 October 2021 . Retrieved\\n5 October  2021 .\\n88. Panamá, GESE-La Estrella de. \"Políticos panameños rechazan los Papeles de Pandora\"  (https://\\nwww .laestrella.com.pa/nacional/21 1004/politicos-panamenos-rechazan-papeles-pandora) . La\\nEstrella de Panamá . Archived  (https://web.archive.org/web/2021 1005010339/https://www .laestrell\\na.com.pa/nacional/21 1004/politicos-panamenos-rechazan-papeles-pandora)  from the original on 5\\nOctober 2021 . Retrieved 5 October  2021 .\\n89. \"Firma Alcogal crea oficina de transparencia\"  (https://www .telemetro.com/nacionales/firma-alcogal\\n-crea-oficina-transparencia-n5610684) . December 2021. Archived  (https://web.archive.org/web/20\\n211203212915/https://www .telemetro.com/nacionales/firma-alcogal-crea-oficina-transparencia-n5\\n610684)  from the original on 3 December 2021 . Retrieved 3 December  2021 .\\n90. \"Ecuador\\'s Lasso Says He Cooperated With Pandora Papers Probe\"  (https://news.bloombergtax.c\\nom/daily-tax-report-international/ecuadors-lasso-says-he-cooperated-with-pandora-papers-probe) .\\nBloomberg News . Archived  (https://web.archive.org/web/2021 1111031 122/https://news.bloombergt\\nax.com/daily-tax-report-international/ecuadors-lasso-says-he-cooperated-with-pandora-papers-pr\\nobe) from the original on 1 1 November 2021 . Retrieved 5 October  2021 .\\n91. \"La Secretaría Antilavado abre una investigación por los Pandora Papers\"  (https://www .busqueda.\\ncom.uy/Secciones/La-Secretaria-Antilavado-abre-una-investigacion-por-los-Pandora-Papers-uc49\\n687). Búsqueda  (in Spanish). Montevideo. 8 October 2021. Archived  (https://web.archive.org/web/', metadata={'source': '/content/Pandora Papers.pdf', 'page': 19}),\n",
              " Document(page_content='com.uy/Secciones/La-Secretaria-Antilavado-abre-una-investigacion-por-los-Pandora-Papers-uc49\\n687). Búsqueda  (in Spanish). Montevideo. 8 October 2021. Archived  (https://web.archive.org/web/\\n2021 1111025946/https://www .busqueda.com.uy/Secciones/La-Secretaria-Antilavado-abre-una-inv\\nestigacion-por-los-Pandora-Papers-uc49687)  from the original on 1 1 November 2021 . Retrieved\\n8 October  2021 .\\nExternal links5/12/24, 6:26 PM Pandora Papers - Wikipedia\\nhttps://en.wikipedia.org/wiki/Pandora_Papers 20/21', metadata={'source': '/content/Pandora Papers.pdf', 'page': 19}),\n",
              " Document(page_content='\"A Simple Guide to the Pandora Papers Leak  (https://www .bbc.com/news/world-58780561) \" by\\nBBC\\nPandora Papers  (https://www .icij.org/investigations/pandora-papers/)  at the International\\nConsortium of Investigative Journalists\\nRetrieved from \"https://en.wikipedia.org/w/index.php?title=Pandora_Papers&oldid=1206276986\"5/12/24, 6:26 PM Pandora Papers - Wikipedia\\nhttps://en.wikipedia.org/wiki/Pandora_Papers 21/21', metadata={'source': '/content/Pandora Papers.pdf', 'page': 20})]"
            ]
          },
          "metadata": {},
          "execution_count": 27
        }
      ],
      "source": [
        "from langchain_community.document_loaders import PyPDFLoader\n",
        "\n",
        "loader = PyPDFLoader(\"/content/Pandora Papers.pdf\")\n",
        "pages = loader.load_and_split()\n",
        "pages"
      ]
    },
    {
      "cell_type": "markdown",
      "source": [
        "This code below is part of a process that involves setting up an in-memory search system using vectors. This is done by provisioning a collection of documents (pages) along with their associated vector representations (embeddings). The purpose of this setup is to enable efficient searching and retrieval of documents based on vector similarity, which can be particularly useful in applications like semantic search or recommendation systems."
      ],
      "metadata": {
        "id": "qw_OQ6A4jtRw"
      }
    },
    {
      "cell_type": "code",
      "execution_count": 28,
      "metadata": {
        "id": "oNdmYEF3iMYj"
      },
      "outputs": [],
      "source": [
        "from langchain_community.vectorstores import DocArrayInMemorySearch\n",
        "\n",
        "vectorstore = DocArrayInMemorySearch.from_documents(pages, embedding=embeddings)"
      ]
    },
    {
      "cell_type": "markdown",
      "source": [
        "Let's demonstrate how to use the previously set up in-memory vector store for searching documents related to a query. First, it concerts the vectorstore into a retriever object using the as_retriever() method. This retriever object is then used to perform a search with the query \"money laundering\"."
      ],
      "metadata": {
        "id": "r2OzQe_DkEYV"
      }
    },
    {
      "cell_type": "code",
      "execution_count": 29,
      "metadata": {
        "id": "p5XASVSxiMYk",
        "colab": {
          "base_uri": "https://localhost:8080/"
        },
        "outputId": "33513c20-80c4-4b4b-f695-48221b2a7c25"
      },
      "outputs": [
        {
          "output_type": "execute_result",
          "data": {
            "text/plain": [
              "[Document(page_content='Uruguay : The National Secretariat for the Fight against Money Laundering and Terrorism\\nFinancing of the Presidential Of fice of Uruguay started ex officio  to research on the case to find\\nout about the roles of law firms  based in Montevideo aimed to provide of fshore entities to clients\\nworldwide as intermediaries of Alcogal.[91]\\nList of people named in the Pandora Papers\\nAzerbaijani Laundromat\\nBahamas Leaks\\nBanca Privada d\\'Andorra\\nCyprus Papers\\nDubai Uncovered\\nFinCEN Files\\nThe Laundromat  (2019 film)\\nLuxLeaks\\nMauritius Leaks\\nOffshore Leaks\\nPanama Papers\\nParadise Papers\\nRussian Laundromat\\nSwiss Leaks\\nSuisse secrets\\n1. Miller , Greg; Cenziper , Debbie; Whoriskey , Peter (3 October 2021). \"Pandora Papers – A Global\\nInvestigation – Billions Hidden Beyond Reach – Trove of secret files details opaque financial\\nuniverse where global elite shield riches from taxes, probes and accountability\"  (https://www .washi\\nngtonpost.com/business/interactive/2021/pandora-papers-of fshore-finance/) . The W ashington\\nPost. Archived  (https://web.archive.org/web/2021 1003163739/https://www .washingtonpost.com/bu\\nsiness/interactive/2021/pandora-papers-of fshore-finance/)  from the original on 3 October 2021 .\\nRetrieved 3 October  2021 .\\n2. Díaz-Struck, Emilia; et al. (3 October 2021). \"Pandora Papers: An of fshore data tsunami – The\\nPandora Papers\\'s 1 1.9 million records arrived from 14 dif ferent of fshore services firms in a jumble\\nof files and formats – even ink-on-paper – presenting a massive data-management challenge\"  (htt\\nps://www .icij.org/investigations/pandora-papers/about-pandora-papers-leak-dataset/) .\\nInternational Consortium of Investigative Journalists . Archived  (https://web.archive.org/web/2021 1\\n006063105/https://www .icij.org/investigations/pandora-papers/about-pandora-papers-leak-datase\\nt/) from the original on 6 October 2021 . Retrieved 4 October  2021 .\\n3. Pandora Papers reporting team (4 October 2021). \"Pandora Papers: A simple guide to the\\nPandora Papers leak\"  (https://www .bbc.com/news/world-58780561) . BBC News . Archived  (https://\\nweb.archive.org/web/2021 1003171231/https://www .bbc.com/news/world-58780561)  from the\\noriginal on 3 October 2021 . Retrieved 4 October  2021 .See also\\nReferences5/12/24, 6:26 PM Pandora Papers - Wikipedia\\nhttps://en.wikipedia.org/wiki/Pandora_Papers 10/21', metadata={'source': '/content/Pandora Papers.pdf', 'page': 9}),\n",
              " Document(page_content='International Limited, a British Virgin Islands company ; had the property been acquired directly,\\n£312,000 would have been payable in stamp duty . Tony Blair\\'s name appears in a statement of joint\\nincome for the associated mortgage.[25]\\nThe papers also reveal how an office block owned by Azerbaijan \\'s ruling Aliyev family was sold to the\\nCrown Estate , the UK sovereig n\\'s public estate, for £66 million in 2018, netting the Aliyevs a\\n£31 million profit. Another office block worth £33 million was sold to the family in 2009, and was\\ngifted to the son of Azerbaijani president Ilham Aliyev , Heydar.[5] According to Las Vegas Sun,\\n\"Members of the inner circle of Pakistani prime minister Imran Khan  are accused of hiding millions of\\ndollars in wealth in secret companies or trusts\".[26] Supporters of former Ukrainian president Petro\\nPoroshenko  accused his successor Zelensky, who came to power on an anti-corruption campaign, of\\ntax evasi on.[27] Elsewhe re, close associates of Russian president Vladimir Putin , like Svetlana\\nKrivonogikh  and Gennady Timchenko , were revealed to have secret asse ts in Monaco , and Czech\\nprime minister Andrej Babiš , who had campaigned on promising to crack down on corruption and tax\\nevasion , did not declare the use of an offshore investment company in the purchase of eight\\nproperties, including two villas, in Mougins  on the French Riviera  for £12 million.[5][28][29] As a resu lt\\nof the Pandora Papers, more information emerged about Russia-linke d, allegedly Kremlin-linked,\\ndonations to the Tories.[30] Uhuru Kenyatta  was also mentioned, despite being  quoted in 2018 as\\nstating, \"Every public servant\\'s assets must be declared publicly so that people can question and ask –\\nwhat is legitimate?\"[11] Kenyatta and six members of his family have been linked to 13 offshore\\ncompanies.[31] The leaked list also includes transnational criminal organization leaders, such as\\nRaffaele Amato , boss of the Amato-Pagano clan , a clan within the Camorra , dedicated to international\\ndrug trafficking. Amato used a shell company in the UK to buy land and real estate in Spain.[32][33][34]\\nOther global names mentioned include Shakira , who was incorporating new offshore entities while\\ngoing on trial for tax evasion; model Claudia Schiffer ; Indian cricket player Sachin Tendulkar ; Indian\\nbillionaire Anil Amb ani; fugitive  diamantaire  Nirav Modi’s sister Purvi Modi; Alexandre Cazes , the\\nfounder of the dark web site AlphaBay , used to deal in illegal drugs; Pakistani finance minister ,\\nShaukat Fayaz Ahmed Tarin , and several of family members of Pakistan\\'s top generals; and the CEO\\nof Channel One Russia , Konstantin Ernst . Miguel Bosé , Pep Guardiola  and Julio Iglesias  are also\\nnamed.[35][36][37][38][39][40]\\nThe leaked files come from 14 offshore service providers that help clients establish companies in\\nsecrecy jurisdictions.[41]Data sources5/12/24, 6:26 PM Pandora Papers - Wikipedia\\nhttps://en.wikipedia.org/wiki/Pandora_Papers 2/21', metadata={'source': '/content/Pandora Papers.pdf', 'page': 1}),\n",
              " Document(page_content='21. \"Offshore havens and hidden riches of world leaders and billionaires exposed in unprecedented\\nleak\"  (https://www .icij.org/investigations/pandora-papers/global-investigation-tax-havens-of fshor\\ne/). International Consortium of Investigative Journalists . 3 October 2021. Archived  (https://web.ar\\nchive.org/web/2021 1003164024/https://www .icij.org/investigations/pandora-papers/global-investig\\nation-tax-havens-of fshore/)  from the original on 3 October 2021 . Retrieved 4 October  2021 .\\n22. Miller , Greg (3 October 2021). \"Jordan\\'s King Abdullah uses shell companies to buy lavish\\noverseas homes, records show\"  (https://www .washingtonpost.com/world/interactive/2021/jordan-a\\nbdullah-shell-companies-luxury-homes/) . The W ashington Post . Archived  (https://web.archive.org/\\nweb/2021 10031651 18/https://www .washingtonpost.com/world/interactive/2021/jordan-abdullah-sh\\nell-companies-luxury-homes/)  from the original on 3 October 2021 . Retrieved 4 October  2021 .\\n23. \"Pandora Papers: King of Jordan amassed £70m secret property empire\"  (https://www .bbc.com/n\\news/world-58781350) . BBC News . 3 October 2021. Archived  (https://web.archive.org/web/2021 10\\n03165306/https://www .bbc.com/news/world-58781350)  from the original on 3 October 2021 .\\nRetrieved 3 October  2021 .\\n24. Goodley , Simon; Safi, Michael (3 October 2021). \"King of Jordan hidden property empire worth\\nmore than $100m, Pandora papers reveal\"  (https://www .theguardian.com/news/2021/oct/03/king-o\\nf-jordan-hidden-property-empire-worth-more-than-100m-pandora-papers-reveal) . The Guardian .\\nArchived  (https://web.archive.org/web/2021 1003202756/https://www .theguardian.com/news/2021/\\noct/03/king-of-jordan-hidden-property-empire-worth-more-than-100m-pandora-papers-reveal)  from\\nthe original on 3 October 2021 . Retrieved 3 October  2021 .\\n25. \"Pandora Papers: Blairs saved £312,000 stamp duty in property deal\"  (https://www .bbc.co.uk/new\\ns/uk-58780559) . BBC News . 3 October 2021. Archived  (https://web.archive.org/web/2021 1003165\\n026/https://www .bbc.co.uk/news/uk-58780559)  from the original on 3 October 2021 . Retrieved\\n3 October  2021 .\\n26. \"A look at world leaders named in the Pandora Papers\"  (https://web.archive.org/web/2021 1016043\\n153/https://lasvegassun.com/news/2021/oct/04/a-look-at-world-leaders-named-in-the-pandora-pa\\nper/). Las V egas Sun . 4 October 2021. Archived from the original  (https://lasvegassun.com/news/2\\n021/oct/04/a-look-at-world-leaders-named-in-the-pandora-paper/)  on 16 October 2021 . Retrieved\\n5 October  2021 .\\n27. \"Pandora Papers: Ukraine leader seeks to justify of fshore accounts\"  (https://www .aljazeera.com/n\\news/2021/10/4/pandora-papers-ukraine-leader-seeks-to-justify-of fshore-accounts) . Al-Jazeera . 4\\nOctober 2021. Archived  (https://web.archive.org/web/2021 1203070814/https://www .aljazeera.com/\\nnews/2021/10/4/pandora-papers-ukraine-leader-seeks-to-justify-of fshore-accounts)  from the\\noriginal on 3 December 2021 . Retrieved 5 October  2021 .\\n28. \"Pandora Papers: Leaked files show hidden financial af fairs of world leaders\"  (https://www .irishtim\\nes.com/business/financial-services/pandora-papers-leaked-files-show-hidden-financial-af fairs-of-w\\norld-leaders-1.4690044) . The Irish T imes . 3 October 2021. Archived  (https://web.archive.org/web/\\n2021 1003175552/https://www .irishtimes.com/business/financial-services/pandora-papers-leaked-fi\\nles-show-hidden-financial-af fairs-of-world-leaders-1.4690044)  from the original on 3 October\\n2021 . Retrieved 3 October  2021 .\\n29. Goodley , Simon; Tait, Robert; Alecci, Scilla (3 October 2021). \"Revealed: Czech PM used of fshore\\ncompanies to buy £13m French mansion\"  (https://www .theguardian.com/news/2021/oct/03/reveal\\ned-czech-pm-used-of fshore-companies-to-buy-13m-french-mansion) . The Guardian . Archived  (htt\\nps://web.archive.org/web/2021 1003170956/https://www .theguardian.com/news/2021/oct/03/reveal\\ned-czech-pm-used-of fshore-companies-to-buy-13m-french-mansion)  from the original on 3', metadata={'source': '/content/Pandora Papers.pdf', 'page': 12}),\n",
              " Document(page_content='o-iglesias-ocultaron-anos-patrimonio-traves-cuentas-opacas_2021 10036159ddc0f64dc50001d76d\\nfc.html)  from the original on 3 October 2021 . Retrieved 3 October  2021 .\\n37. Dubinsky , Zach (3 October 2021). \"Huge \\'Pandora Papers\\' leak exposes secret of fshore accounts\\nof politicians, celebrities and billionaires\"  (https://www .cbc.ca/news/pandora-papers-of fshore-tax-a\\nvoidance-1.6197303) . CBC News . Archived  (https://web.archive.org/web/2021 1003184405/https://\\nwww .cbc.ca/news/pandora-papers-of fshore-tax-avoidance-1.6197303)  from the original on 3\\nOctober 2021 . Retrieved 3 October  2021 .5/12/24, 6:26 PM Pandora Papers - Wikipedia\\nhttps://en.wikipedia.org/wiki/Pandora_Papers 14/21', metadata={'source': '/content/Pandora Papers.pdf', 'page': 13})]"
            ]
          },
          "metadata": {},
          "execution_count": 29
        }
      ],
      "source": [
        "retriever = vectorstore.as_retriever()\n",
        "retriever.invoke(\"money laundering\")"
      ]
    },
    {
      "cell_type": "markdown",
      "source": [
        "This pipeline effectively chains together a sequence of operations: extracting information, retrieving related context, generating prompts, processing that prompts with a model, and parsing the output. This approx is highly modular, allowing for each component of the pipeline to be swapped out or modified independently."
      ],
      "metadata": {
        "id": "ixS9SxTck4fh"
      }
    },
    {
      "cell_type": "code",
      "execution_count": 30,
      "metadata": {
        "id": "qflhZgSIiMYl"
      },
      "outputs": [],
      "source": [
        "from operator import itemgetter\n",
        "\n",
        "chain = (\n",
        "    {\n",
        "        \"context\": itemgetter(\"question\") | retriever,\n",
        "        \"question\": itemgetter(\"question\"),\n",
        "    }\n",
        "    | prompt\n",
        "    | model\n",
        "    | parser\n",
        ")"
      ]
    },
    {
      "cell_type": "markdown",
      "source": [
        "Let's ask some relevant questions to the pandora papers below"
      ],
      "metadata": {
        "id": "5SFERpEHmCpD"
      }
    },
    {
      "cell_type": "code",
      "execution_count": 31,
      "metadata": {
        "colab": {
          "base_uri": "https://localhost:8080/"
        },
        "id": "w3vIBK6miMYl",
        "outputId": "98555019-1f79-498d-e938-ee714ac7e070"
      },
      "outputs": [
        {
          "output_type": "stream",
          "name": "stdout",
          "text": [
            "Question: What are the Pandora Papers and how were they obtained?\n",
            "Answer: The Pandora Papers are 11.9 million leaked documents with 2.9 terabytes of data that were obtained by the International Consortium of Investigative Journalists (ICIJ) and published beginning on October 3, 2021.\n",
            "\n",
            "Question: Who are some of the most notable individuals mentioned in the Pandora Papers and what accusations are made against them?\n",
            "Answer: Some of the most notable individuals mentioned in the Pandora Papers include former British Prime Minister Tony Blair, Chilean President Sebastián Piñera, former Kenyan President Uhuru Kenyatta, Montenegrin President Milo Đukanović, Ukrainian President Volodymyr Zelenskyy, Qatari Emir Tamim bin Hamad Al Thani, and many others. The accusations made against them include hiding assets in tax havens, involvement in financial fraud, and using offshore accounts for financial secrecy.\n",
            "\n",
            "Question: How do the Pandora Papers differ from previous leaks like the Panama Papers and Paradise Papers?\n",
            "Answer: The Pandora Papers differ from previous leaks like the Panama Papers and Paradise Papers in terms of the size of the leak. The Pandora Papers consist of 11.9 million leaked documents with 2.9 terabytes of data, surpassing the previous release of the Panama Papers in 2016, which had 11.5 million confidential documents and 2.6 terabytes of data. Additionally, the Pandora Papers expose the secret offshore accounts of 35 world leaders, more than 100 business leaders, billionaires, and celebrities, making it a more expansive exposé of financial secrecy.\n",
            "\n",
            "Question: What methods do wealthy individuals and corporations use to hide their wealth as revealed by the Pandora Papers?\n",
            "Answer: Wealthy individuals and corporations use methods such as setting up shell companies, using trusts in various states, and utilizing of fshore accounts to hide their wealth as revealed by the Pandora Papers.\n",
            "\n",
            "Question: What are the legal and ethical implications of the findings in the Pandora Papers?\n",
            "Answer: The legal and ethical implications of the findings in the Pandora Papers include potential investigations into financial fraud, orders for probes by government agencies, denials of wrongdoing by named individuals, promises of investigations and legal action by authorities, and the potential for negative consequences on the reputation of countries and individuals involved.\n",
            "\n",
            "Question: How have governments around the world reacted to the revelations in the Pandora Papers?\n",
            "Answer: Governments around the world have reacted to the revelations in the Pandora Papers by launching investigations, ordering probes, promising investigations, denying wrongdoing, and taking appropriate legal action if necessary. Some leaders have condemned the leaks as distorted or malicious, while others have acknowledged the need for transparency and accountability.\n",
            "\n",
            "Question: What role do offshore financial centers play in the global economy, according to insights from the Pandora Papers?\n",
            "Answer: Offshore financial centers play a significant role in the global economy by allowing the global elite to shield their riches from taxes, probes, and accountability. They facilitate the hiding of assets and wealth through opaque financial structures, enabling individuals to avoid paying taxes and maintain secrecy regarding their financial affairs.\n",
            "\n",
            "Question: How have the Pandora Papers influenced public opinion on wealth inequality and tax justice?\n",
            "Answer: The Pandora Papers have influenced public opinion on wealth inequality and tax justice by exposing the hidden wealth and financial dealings of world leaders and billionaires, leading to calls for transparency, investigations, and legal action in various countries. For example, some leaders have ordered probes into those named in the papers, while others have promised investigations and actions against any wrongdoing. Overall, the revelations in the Pandora Papers have sparked discussions on the need for greater accountability, closing loopholes, and addressing issues of financial secrecy and tax evasion.\n",
            "\n",
            "Question: What measures are being proposed or implemented to prevent the kind of secretive financial activities revealed by the Pandora Papers?\n",
            "Answer: The measures being proposed or implemented to prevent the kind of secretive financial activities revealed by the Pandora Papers include:\n",
            "\n",
            "1. The United States Department of State announced that it would review the documents published in the Pandora Papers.\n",
            "2. The Irish government and legislature in Ireland would move immediately to close any loopholes in tax or company law that allow individuals and businesses to use the country as an offshore location.\n",
            "3. The EU tax commissioner Paolo Gentiloni announced that the European Commission will present new legislative proposals to tackle tax avoidance and tax evasion by the end of the year.\n",
            "\n",
            "These measures aim to address the issues of tax avoidance, financial secrecy, and offshore activities exposed by the Pandora Papers.\n",
            "\n",
            "Question: What challenges do journalists face when investigating and reporting on leaks like the Pandora Papers?\n",
            "Answer: Journalists face challenges such as verifying the authenticity of the leaked documents, protecting their sources, and potentially facing legal repercussions for publishing sensitive information.\n",
            "\n"
          ]
        }
      ],
      "source": [
        "questions = [\n",
        "    \"What are the Pandora Papers and how were they obtained?\",\n",
        "    \"Who are some of the most notable individuals mentioned in the Pandora Papers and what accusations are made against them?\",\n",
        "    \"How do the Pandora Papers differ from previous leaks like the Panama Papers and Paradise Papers?\",\n",
        "    \"What methods do wealthy individuals and corporations use to hide their wealth as revealed by the Pandora Papers?\",\n",
        "    \"What are the legal and ethical implications of the findings in the Pandora Papers?\",\n",
        "    \"How have governments around the world reacted to the revelations in the Pandora Papers?\",\n",
        "    \"What role do offshore financial centers play in the global economy, according to insights from the Pandora Papers?\",\n",
        "    \"How have the Pandora Papers influenced public opinion on wealth inequality and tax justice?\",\n",
        "    \"What measures are being proposed or implemented to prevent the kind of secretive financial activities revealed by the Pandora Papers?\",\n",
        "    \"What challenges do journalists face when investigating and reporting on leaks like the Pandora Papers?\",\n",
        "\n",
        "]\n",
        "\n",
        "for question in questions:\n",
        "    print(f\"Question: {question}\")\n",
        "    print(f\"Answer: {chain.invoke({'question': question})}\")\n",
        "    print()"
      ]
    }
  ],
  "metadata": {
    "colab": {
      "provenance": []
    },
    "kernelspec": {
      "display_name": ".venv",
      "language": "python",
      "name": "python3"
    },
    "language_info": {
      "codemirror_mode": {
        "name": "ipython",
        "version": 3
      },
      "file_extension": ".py",
      "mimetype": "text/x-python",
      "name": "python",
      "nbconvert_exporter": "python",
      "pygments_lexer": "ipython3",
      "version": "3.10.7"
    }
  },
  "nbformat": 4,
  "nbformat_minor": 0
}
